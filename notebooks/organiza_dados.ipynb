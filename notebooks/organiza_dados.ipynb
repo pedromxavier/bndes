{
 "cells": [
  {
   "cell_type": "markdown",
   "metadata": {},
   "source": [
    "<div id=\"header\">\n",
    "<h1 class=\"title\"> Prêmio Dados Abertos para o Desenvolvimento - BNDES</h1>\n",
    "<h2 class=\"author\">Time 15</h2>\n",
    "<h3 class=\"date\">Agosto de 2021</h3>\n",
    "</div>\n",
    "<p><span style=\"font-variant: small-caps;\">Time 15</span><br />\n",
    "<span style=\"font-variant: small-caps;\">E se o BNDES fosse um país?</span><br />\n",
    "</p>\n",
    "<hr />\n",
    "<p><br />\n",
    "<span> <strong></strong></span><br />\n",
    "</p>\n",
    "<hr />\n",
    "<p><br />\n",
    "</p>\n",
    "<p><em>Autores:</em><br />\n",
    "Caue Caviglioni<br />\n",
    "Marcello Campanelli<br />\n",
    "Pedro Xavier<br />\n",
    "Rafael Ribeiro<br />\n",
    "Ronald Albert<br />\n",
    "</p>"
   ]
  },
  {
   "cell_type": "markdown",
   "metadata": {},
   "source": [
    "<head>\n",
    "  <meta http-equiv=\"Content-Type\" content=\"text/html; charset=utf-8\" />\n",
    "  <meta http-equiv=\"Content-Style-Type\" content=\"text/css\" />\n",
    "  <meta name=\"generator\" content=\"pandoc\" />\n",
    "  <meta name=\"author\" content=\"Time 15\" />\n",
    "  <title> Prêmio Dados Abertos para o Desenvolvimento - BNDES</title>\n",
    "  <style type=\"text/css\">code{white-space: pre;}</style>\n",
    "</head>"
   ]
  },
  {
   "cell_type": "code",
   "execution_count": null,
   "metadata": {},
   "outputs": [],
   "source": [
    "import pandas as pd\n",
    "import seaborn as sns\n",
    "import datetime\n",
    "import matplotlib.pyplot as plt\n",
    "import numpy as np\n",
    "import zipfile\n",
    "import plotly.graph_objects as go\n",
    "import datetime\n",
    "from sklearn.cluster import KMeans"
   ]
  },
  {
   "cell_type": "markdown",
   "metadata": {},
   "source": [
    "<p><br />\n",
    "</p>\n",
    "<h1 id=\"introdução\"> Introdução </h1>\n",
    "<p>Com o avanço das tecnologias e a inserção do computador tanto no ambiente corporativo quanto no da população em geral, surgiu a possibilidade de se trabalhar com dados de maneira muito mais rápida e eficiente. Catalogar, processar e visualizar os dados deixaram de ser processos manuais e passaram a ser auxiliados por essas máquinas que revolucionaram o mundo.</p>\n",
    "<p>Atualmente, o cada vez maior número de <em>data lakes</em> torna evidente a tendência de empresas e órgãos públicos a tornarem seus dados acessíveis ao público geral. Dessa forma, observamos a crescente valorização dos dados abertos e de instituições mais transparentes.</p>\n",
    "<p>Aderindo a essa tendência, o Banco Nacional de Desenvolvimento Econômico e Social (<em>BNDES</em>) lançou seu <a href=\"https://www.bndes.gov.br/wps/portal/site/home/acesso-a-informacao/acesso-a-informacao-dados-abertos/!ut/p/z1/tVRNd6IwFN37K7phiUkkKJ0dIgUVba1fyMYTMGrmKKEh1XZ-_QSGzrSOtWdOOyx48Li5792bPEBUu7qq1UCognqobi8RRCk5sA2RjKdkB0KwiJrL4Lrv-vgWBt49RNA2-zf2rNM37IEJ5iUAvnPZEETqc2vkOb6NUWBNfAeOnJ56aXnI6yIwAxGIklRmcgsWcbqi-ZKluWTyMSk70OCW76kGSULznOtEZ-maiz1JCD-b1FdkxXOdxFRInhfkWcJWYNE0rDUyE6SvEFrrODGwHtMW0hutBGLcpDElsBJzQW10WWuvdPGPmYWdl-WH1YoK_juABfv-8BDZyhueSvokQdgedtzxsvvWHL80ZyJImmdE0DRhRIMsZSpKdiC5BjNB9-zUlnlhzGup0Li7gbYfoCketGGjj08Bt13DVQAnMLHbR961UQEuuLFQbrZeuXk3VCXMURt6LkbYx2B-YPQIpmmxdTsw_sfN8j-qMPpshVP6WbsD7aA7DrwpNCy38cX0J903_y-9-Un63tvz8feshGfO8NcPuKrSEANnsFHNE7ktgSD8eJ1qf7Pj8a9fnJ3GhqUYBF1TQUX9Uaj0Vsos_6ZBDR6Px3rZeX3DD_VYqExWTBYXsug_Z5K-qJDvTuK5OlueK1NO6UG2n-4t41mP4ua9_6M91D0nto6T9b4Kc0taz8Zu8xOEgb8o/dz/d5/L2dBISEvZ0FBIS9nQSEh/\"><em>Plano de Dados Abertos</em></a>, com o objetivo de promover ganhos à administração pública. Motivados por isso, trazemos neste documento análises contendo diversos dados abertos, não sendo esses restritos ao <em>BNDES</em>.</p>\n",
    "<h2 id=\"subsec:proposta\">Proposta de Análise</h2>\n",
    "<p>Avaliar a distribuição dos desembolsos do <em>BNDES</em> e comparar com diversos países, fazendo uso do crescimento percentual do <em>PIB</em> como parâmetro de sucesso econômico. Ao longo deste documento, vamos criar métricas de comparação a fim de traçar análises entre o <em>BNDES</em> e esses países referência, levantando questionamentos e insights.</p>\n",
    "<p>Os países serão escolhidos com base em sua relevância econômica, bem como pela similaridade entre o <em>BNDES</em> e os países em questão. Essa similaridade será tratada utilizando algoritmos de clusterização, já que seria ineficiente e raso analisar os países de forma apenas manual.</p>\n",
    "<h2 id=\"base-desembolsos-mensais-do-bndes\">Base Desembolsos Mensais do BNDES</h2>\n",
    "<p>Com a proposta acima, a base mais adequada a ser utilizada foi a de Desembolsos Mensais, que detalha os investimentos mensais do Sistema <em>BNDES</em>, por setores e por data, tendo uma cobertura temporal de 1995 até os meses atuais.</p>\n",
    "<p>Essa base foi especialmente boa, pois foi possível comparar os desembolsos do <em>BNDES</em> com os investimentos de outros países, isso permitiu que o <em>BNDES</em> fosse tratado analogamente como um país.</p>\n",
    "\n",
    "\n",
    "- [Base BNDES (Desembolsos)](https://dadosabertos.bndes.gov.br/dataset/desembolsos-mensais/resource/aac5c7bd-5d18-41c3-9720-52d20470427e) (Carregada por meio da API do portal de dados abertos do BNDES)\n"
   ]
  },
  {
   "cell_type": "code",
   "execution_count": null,
   "metadata": {},
   "outputs": [],
   "source": [
    "url_desembolsos = \"https://dadosabertos.bndes.gov.br/dataset/c529f6a7-5ce4-4378-a585-92cbf53af710/resource/aac5c7bd-5d18-41c3-9720-52d20470427e/download/desembolsos-mensais.csv\"\n",
    "\n",
    "df_desembolsos = pd.read_csv(url_desembolsos, sep=';',decimal=\",\")"
   ]
  },
  {
   "cell_type": "code",
   "execution_count": null,
   "metadata": {},
   "outputs": [],
   "source": [
    "df_desembolsos.head(15)"
   ]
  },
  {
   "cell_type": "markdown",
   "metadata": {},
   "source": [
    "<p>Informações interativas e mais detalhadas sobre a base podem ser encontradas no <a href=\"https://www.bndes.gov.br/wps/portal/site/home/transparencia/estatisticas-desempenho/estatisticas-operacionais-sistema-bndes\"><em>dashboards de desembolsos</em> </a> do <em>BNDES</em>.</p>"
   ]
  },
  {
   "cell_type": "markdown",
   "metadata": {},
   "source": [
    "<h2 id=\"subsec:dre\">Base DRE - Série Histórica</h2>"
   ]
  },
  {
   "cell_type": "markdown",
   "metadata": {},
   "source": [
    "<p>A base de <code>DRE - Série Histórica</code> trata da demonstração de diversos resultados do <em>BNDES</em>, e servirá de apoio à já citada criação da métrica de comparação, presente na Seção proposta. Utilizaremos ela como um paralelo ao <em>PIB</em> dos países comparados, como um parâmetro de sucesso ou insucesso econômico da instituição.</p>"
   ]
  },
  {
   "cell_type": "markdown",
   "metadata": {},
   "source": [
    "<H>Carregamento da base e leve tratamento dos dados:"
   ]
  },
  {
   "cell_type": "code",
   "execution_count": null,
   "metadata": {},
   "outputs": [],
   "source": [
    "url_balanco = \"https://dadosabertos.bndes.gov.br/dataset/8d01af82-301b-4481-a2fc-3daf3a7bdf03/resource/159c6303-973d-413a-8de7-5343c318d37e/download/indicadores-financeiros-balanco-patrimonial-serie-historica.csv\"\n",
    "df_balanco = pd.read_csv(url_balanco, sep=';',decimal=\",\")\n",
    "df_balanco['data'] = pd.to_datetime(df_balanco['data'])\n",
    "df_balanco['ano'] = df_balanco.data.dt.year\n",
    "df_balanco_interesse = df_balanco[[\"patrimonio_liquido\", 'ano']].groupby('ano').mean()\n",
    "pct_change = df_balanco_interesse.pct_change()\n",
    "pct_change = pct_change * 100"
   ]
  },
  {
   "cell_type": "markdown",
   "metadata": {},
   "source": [
    "<p>A base tem 77 registros e 35 colunas. As colunas de interesse da base são as de <code>data</code> e <code>patrimonio_liquido</code>, como mostradas na seção. A coluna referente ao patrimônio é tratada em milhões de reais.</p>"
   ]
  },
  {
   "cell_type": "markdown",
   "metadata": {},
   "source": [
    "<h2 id=\"base-wdi\">Base WDI</h2>\n",
    "<p>Outra base que será usada é a base <code>WDI</code>, fornecida pelo The World Bank, essa que contém indicadores de diversas áreas relacionadas a gestão pública para inúmeros países.</p>\n",
    "<p>A <code>WDI</code> é um <em>dataset</em> extremamente robusto. Para fins dessa análise, usaremos somente as colunas referentes a porcentagem de investimento em determinadas áreas e o crescimento anual do PIB de países.<br />\n",
    "Abaixo, uma imagem da base com as colunas de porcentagem de investimento anual em químicos, indústria e crescimento anual do PIB</p>\n",
    "\n",
    "- [Base WDI (Países)](https://datatopics.worldbank.org/world-development-indicators/) (Carregada localmente)"
   ]
  },
  {
   "cell_type": "code",
   "execution_count": null,
   "metadata": {},
   "outputs": [],
   "source": [
    "wdi_zip = zipfile.ZipFile('../data/WDI_csv.zip')\n",
    "df_wdi = pd.read_csv(wdi_zip.open('WDIData.csv'))"
   ]
  },
  {
   "cell_type": "code",
   "execution_count": null,
   "metadata": {},
   "outputs": [],
   "source": [
    "df_wdi.head(3)"
   ]
  },
  {
   "cell_type": "markdown",
   "metadata": {},
   "source": [
    "<p>A base foi coletada do <a href=\"https://databank.worldbank.org/source/world-development-indicators\"><em>website do The World Bank</em></a>.</p>"
   ]
  },
  {
   "cell_type": "markdown",
   "metadata": {},
   "source": [
    "<h1 id=\"análise-exploratória-dos-dados\">Análise exploratória dos dados</h1>"
   ]
  },
  {
   "cell_type": "markdown",
   "metadata": {},
   "source": [
    "<h2 id=\"base-desembolsos-mensais-do-bndes-1\">Base Desembolsos Mensais do BNDES</h2>\n",
    "<p>A base em questão tem <span class=\"math inline\">3244804</span> entradas e <span class=\"math inline\">16</span> colunas a serem analisadas. A descrição detalhada de cada coluna dessa base, já apresentada por alto na Figura [fig:base_bndes], pode ser encontrada no <a href=\"https://dadosabertos.bndes.gov.br/dataset/c529f6a7-5ce4-4378-a585-92cbf53af710/resource/d4cc2eda-8743-46de-a813-f9f1da018c0f/download/dicionario-de-dados-desembolsos-mensais-do-sistema-bndes.pdf\"><em>portal de dados abertos do BNDES</em></a>.</p>\n",
    "<p>Para o fim de nossa análise, vamos focar em uma granularidade temporal anual e de setores de investimento com base na coluna <code>setor_bndes</code>. Essas escolhas foram feitas visando tornar todas as três bases compatíveis.</p>\n",
    "<p>Abaixo vemos a quantidade de investimentos do BNDES por setor:</p>"
   ]
  },
  {
   "cell_type": "code",
   "execution_count": null,
   "metadata": {},
   "outputs": [],
   "source": [
    "desembolsosBySetor = pd.DataFrame(df_desembolsos.groupby(by=[\"ano\", \"setor_bndes\"]).sum().desembolsos_reais).unstack()\n",
    "desembolsosBySetor.columns = desembolsosBySetor.columns.levels[1]\n",
    "\n",
    "sns.lineplot(data=desembolsosBySetor)"
   ]
  },
  {
   "cell_type": "markdown",
   "metadata": {},
   "source": [
    "<p>Podemos observar pela figura que houve um considerável crescimento do investimento do BNDES entre os anos de 2006 e 2017 nas áreas de Infraestrutura, Comércio e Serviços e Indústria, no entanto, tal comportamento não foi observado em na área de Agropecuária.</p>\n",
    "<p>Para melhor observar essa relação de do investimento entre os setores, temos a figura abaixo, a qual nos mostra um gráfico de percentual investido em cada um dos setores anualmente."
   ]
  },
  {
   "cell_type": "code",
   "execution_count": null,
   "metadata": {},
   "outputs": [],
   "source": [
    "porcentoSetor = desembolsosBySetor.div(desembolsosBySetor.sum(axis=1), axis=0)\n",
    "porcentoSetor = porcentoSetor.apply(lambda x: x*100)\n",
    "\n",
    "sns.lineplot(data=porcentoSetor)"
   ]
  },
  {
   "cell_type": "markdown",
   "metadata": {},
   "source": [
    "<p>A partir do gráfico de percentuais vemos que os investimentos do BNDES, tem uma histórica preferencia pelos setores de Indústria e Infraestrutura. É possível observar também que a Agropecuária vinha perdendo espaço para os outros dois setores entre 2006 e 2015, no entanto, recuperando espaço nos últimos anos, a partir de 2018."
   ]
  },
  {
   "cell_type": "markdown",
   "metadata": {},
   "source": [
    "<h2 id=\"base-wdi-1\">Base WDI</h2>\n",
    "<p>Essa base possui dados de de muitos países, com diversos indicadores e com uma cobertura temporal de 1960 até 2020, no momento. No total, possui <span class=\"math inline\">383838</span> registros e <span class=\"math inline\">66</span> colunas, que vamos tratar com agrupamentos e filtros para extrair novas bases a serem utilizadas para cruzar com dados da base <em>BNDES</em>. Mais detalhes sobre essa extensa base estão <a href=\"https://datatopics.worldbank.org/world-development-indicators/\"><em>na página do The World Bank</em></a>.</p>\n",
    "<h1 id=\"tratamento-dos-dados-e-criação-de-uma-base-agregada\">Tratamento dos dados e criação de uma base agregada</h1>\n",
    "<p>A fim de criarmos análises sólidas de maneira mais rápida e simples, optamos por criar uma base agregada com informações de interesse presentes nas três bases anteriormente citadas.</p>\n",
    "<p>Vale mencionar que o alicerce desse cruzamento de informações entre as duas bases foi a relação encontrada no portal de dados abertos do <em>BNDES</em>, na base <code>Mapeamento de BNDES para CNAE</code>, bem como a comparação com o <a href=\"https://datatopics.worldbank.org/world-development-indicators/\"><em>dicionário de indicadores da base WDI</em></a>.</p>"
   ]
  },
  {
   "cell_type": "markdown",
   "metadata": {},
   "source": [
    "![fluxograma_mapeamento.png](..\\img\\fluxograma_mapeamento.png)"
   ]
  },
  {
   "cell_type": "markdown",
   "metadata": {},
   "source": [
    "## Tratandos os dados dos desembolsos"
   ]
  },
  {
   "cell_type": "code",
   "execution_count": null,
   "metadata": {
    "scrolled": true
   },
   "outputs": [],
   "source": [
    "df_desembolsos['date'] = pd.to_datetime(df_desembolsos['ano'].astype(str) + '-' + df_desembolsos['mes'].astype(str) + '-' + \"01\")\n",
    "df_desembolsos.loc[:,['regiao', 'uf', 'municipio']] = df_desembolsos.loc[:,['regiao', 'uf', 'municipio']].replace('\\s*$', '',regex=True)\n",
    "df_desembolsos.sort_values(by=['date'], inplace=True)\n",
    "df_desembolsos.head()"
   ]
  },
  {
   "cell_type": "markdown",
   "metadata": {},
   "source": [
    "## Tratandos os dados da base WDI"
   ]
  },
  {
   "cell_type": "code",
   "execution_count": null,
   "metadata": {
    "scrolled": false
   },
   "outputs": [],
   "source": [
    "wdi_t = df_wdi.T\n",
    "idx = pd.IndexSlice\n",
    "\n",
    "wdi_t.columns = pd.MultiIndex.from_product([wdi_t.loc['Country Name'].unique(), wdi_t.loc['Indicator Name'].unique()])\n",
    "wdi_t.drop(labels=['Country Name','Indicator Name', 'Country Code'], axis=0, inplace=True)\n",
    "wdi_t.drop(index=['Indicator Code','Unnamed: 65'], inplace=True)\n",
    "wdi_t.index = list(wdi_t.index.str.extract(r'([0-9]{4})').values.astype(int).reshape((1,-1)))\n",
    "wdi_t.index = [i[0] for i in wdi_t.index.to_flat_index()]\n",
    "wdi_t.index = wdi_t.index.astype(int)\n",
    "wdi_t.replace(regex=r'^.*$', value=np.nan, inplace=True)\n",
    "wdi_t = wdi_t.apply(pd.to_numeric)\n",
    "wdi_t.head()"
   ]
  },
  {
   "cell_type": "markdown",
   "metadata": {},
   "source": [
    "Vamos checar agora quais anos sao cobertos pelos dados do BNDES para filtrarmos a base WDI com dados de nosso interesse."
   ]
  },
  {
   "cell_type": "code",
   "execution_count": null,
   "metadata": {},
   "outputs": [],
   "source": [
    "lista_anos_interesse = df_desembolsos['ano'].sort_values().unique().astype(str)\n",
    "\n",
    "print(lista_anos_interesse)"
   ]
  },
  {
   "cell_type": "markdown",
   "metadata": {},
   "source": [
    "Vemos que sao dados a partir de 1995 com termino em 2020. Com essas informacoes, vamos filtrar as colunas da base wdi. Vamos manter as colunas contendo o nome do pais, codigo do pais e nome do indicador (Country Name, Country Code, Indicator Name)"
   ]
  },
  {
   "cell_type": "code",
   "execution_count": null,
   "metadata": {
    "scrolled": false
   },
   "outputs": [],
   "source": [
    "df_wdi[lista_anos_interesse]"
   ]
  },
  {
   "cell_type": "markdown",
   "metadata": {},
   "source": [
    "Usamos o seguinte dicionário, para estabelecer a relação entre a base WDI e a base dos desembolsos do BNDES"
   ]
  },
  {
   "cell_type": "code",
   "execution_count": null,
   "metadata": {},
   "outputs": [],
   "source": [
    "relacao_01 = {\"quimica\" : [\"QUÍMICA E PETROQUÍMICA\", \"Chemicals (% of value added in manufacturing)\"], \n",
    "              \"agropecuaria\": [\"AGROPECUÁRIA\", \"Agriculture, forestry, and fishing, value added (% of GDP)\"], \n",
    "              \"industria\": [\"INDUSTRIA\", \"Industry (including construction), value added (% of GDP)\"],\n",
    "              \"servicos\":[\"COMÉRCIO E SERVIÇOS\", \"Services, value added (% of GDP)\"] }\n"
   ]
  },
  {
   "cell_type": "markdown",
   "metadata": {},
   "source": [
    "De posse do mapeamento entre os indicadores do *BNDES* e do WDI, chegamos à base agregada. Além disso, é importante ressaltar que, para que as análises fossem feitas em mesma escala, utilizamos o crescimento percentual do ano com seu antecessor como valor padrão para os indicadores tanto do *BNDES* quanto para o WDI.  "
   ]
  },
  {
   "cell_type": "markdown",
   "metadata": {},
   "source": [
    "![corr.svg](..\\img\\corr.svg)"
   ]
  },
  {
   "cell_type": "markdown",
   "metadata": {},
   "source": [
    "Acima, podemos ver a matriz de correlação para o investimento em algumas áreas do BNDES e o crescimento do PIB Brasileiro.<br>\n",
    "Vemos que o único setor de investimento que possui uma correlação positiva com o PIB Brasileiro é o investimento em Indústria."
   ]
  },
  {
   "cell_type": "markdown",
   "metadata": {},
   "source": [
    "# Investimentos por setores de países e BNDES"
   ]
  },
  {
   "cell_type": "markdown",
   "metadata": {},
   "source": [
    "Com dados sobre gastos em determinados setores presentes na base agregada, tanto do <i>BNDES</i> quanto o de outros países desenvolvidos, selecionamos três setores para comparação entre o <i>BNDES</i> e esses outros países: Indústria, agropecuária e serviços. <br><br>\n",
    "    Esses setores e o de infraestrutura eram os mais relevantes, por isso escolhemos esses para análise. É importante mencionar que o setor de infraestrutura não foi utilizado, pois o mapeamento entre os subsetores de Infraestrutura da base do <i>BNDES</i> e da base <i>WDI</i> se tornou inviável, já que a relação entre a base do <i>BNDES</i> e do WDI não tinham uma correspondência clara."
   ]
  },
  {
   "cell_type": "markdown",
   "metadata": {},
   "source": [
    "Escolhemos alguns dos países mais desenvolvidos tecnologicamente para checar como o *BNDES* se comportou em relação a seus investimentos, se manteve uma postura parecida ou destoou no que os países mais desenvolvidos focaram.\n",
    "<br><br> Os países escolhidos para efeitos de comparação do *BNDES*, foram o Brasil, China, Estados Unidos e Alemanha.  \n"
   ]
  },
  {
   "cell_type": "code",
   "execution_count": null,
   "metadata": {},
   "outputs": [],
   "source": [
    "paises_interesse_p = ['Brazil', 'China', 'United States', 'Germany', 'BNDES']"
   ]
  },
  {
   "cell_type": "markdown",
   "metadata": {},
   "source": [
    "Também escolhemos países relevantes mais relevantes no cenário internacional para checar similaridades com o *BNDES* usando Clusterização, para isso, foram selecionados 12 países: Brasil, Estados Unidos, China, Alemanha, Reino Unido, Japão, Itália, França, Canada, Australia, Argentina e Uruguai."
   ]
  },
  {
   "cell_type": "code",
   "execution_count": null,
   "metadata": {},
   "outputs": [],
   "source": [
    "paises_interesse = ['Brazil', 'United States', 'China', 'Germany', 'United Kingdom', 'Japan', 'Italy', 'France', 'Canada', 'Australia', 'BNDES', 'Argentina', 'Uruguay']"
   ]
  },
  {
   "cell_type": "markdown",
   "metadata": {},
   "source": [
    "Abaixo podemos ver uma matriz de correlação das % de investimentos em alguns setores econômicos, com o crescimento do PIB brasileiro"
   ]
  },
  {
   "cell_type": "code",
   "execution_count": null,
   "metadata": {},
   "outputs": [],
   "source": [
    "countries = ['Brazil']\n",
    "\n",
    "sns.heatmap(\n",
    "    wdi_t.loc[lista_anos_interesse.astype(int),idx[countries,[relacao_01['servicos'][1]] + [relacao_01['industria'][1]] + [relacao_01['agropecuaria'][1]] + ['GDP growth (annual %)']]].corr(),\n",
    "    annot=True,\n",
    "    linewidths=.5,\n",
    "    xticklabels=['% de investimento em Serviços', '% de investimento em Indústria', '% de investimento em Agropecuária', 'PIB'], \n",
    "    yticklabels=['% de investimento em Serviços', '% de investimento em Indústria', '% de investimento em Agropecuária', 'PIB']\n",
    ")"
   ]
  },
  {
   "cell_type": "markdown",
   "metadata": {},
   "source": [
    "## Setor - Indústria"
   ]
  },
  {
   "cell_type": "code",
   "execution_count": null,
   "metadata": {},
   "outputs": [],
   "source": [
    "setor = \"industria\"\n",
    "\n",
    "aux_wdi = wdi_t[4:].loc[:,pd.IndexSlice[:, relacao_01[setor][1]]]\n",
    "aux_wdi = aux_wdi.droplevel(1, axis=1)\n",
    "aux_wdi = aux_wdi.fillna(0)\n",
    "aux_wdi = aux_wdi.apply(lambda x: x.replace(0, x.iloc[np.array(x).nonzero()].mean()) if len(np.array(x).nonzero()[0]) > 0 else x\n",
    "                        , axis=0)\n",
    "aux_wdi = aux_wdi.loc[lista_anos_interesse.astype(int)]\n",
    "\n",
    "concat = pd.concat([aux_wdi, pd.DataFrame({'BNDES': porcentoSetor[relacao_01[setor][0]]})], axis=1)\n",
    "concat.head()"
   ]
  },
  {
   "cell_type": "code",
   "execution_count": null,
   "metadata": {},
   "outputs": [],
   "source": [
    "sns.lineplot(data=concat.loc[lista_anos_interesse.astype(int), paises_interesse_p])"
   ]
  },
  {
   "cell_type": "markdown",
   "metadata": {},
   "source": [
    "Analisando o gráfico acima, vemos que os países mais desenvolvidos investem boa parte no setor da indústria, enquanto o *BNDES* se mantém muito abaixo de todos em relação aos mesmos desembolsos.\n",
    "\n",
    "<br> Com a clusterização, vamos comparar o *BNDES* com países relevantes no contexto internacional para checar com quais o *BNDES* vai se assimilar no setor de indústria."
   ]
  },
  {
   "cell_type": "code",
   "execution_count": null,
   "metadata": {},
   "outputs": [],
   "source": [
    "concat = concat[paises_interesse]"
   ]
  },
  {
   "cell_type": "code",
   "execution_count": null,
   "metadata": {
    "scrolled": true
   },
   "outputs": [],
   "source": [
    "#ANALISE DO NUMERO DE CLUSTER\n",
    "def cidade_grupo(nclusters, pais='BNDES'):\n",
    "    pais_index = list(concat.columns).index(pais) \n",
    "    lista_paises = list()\n",
    "    \n",
    "    for _ in range(20):\n",
    "        clustering = KMeans(n_clusters=nclusters,algorithm='full').fit(concat.values.T)\n",
    "        lista_paises += (list(concat.columns[np.where(clustering.labels_ == clustering.labels_[pais_index])[0]]))\n",
    "        \n",
    "    return set(lista_paises)\n",
    "\n",
    "paises_similares_dict = {} \n",
    "ncls = []\n",
    "n_clusters = np.array(range(2,6))\n",
    "for k in n_clusters:\n",
    "    listpaises = cidade_grupo(k)\n",
    "    paises_similares_dict[str(k)] = list(listpaises)\n",
    "    ncls.append(len(listpaises))\n",
    "    \n",
    "plt.bar(range(len(ncls)),ncls)\n",
    "plt.xticks(range(len(n_clusters)), range(n_clusters.min(),n_clusters.max() + 1))\n",
    "plt.title('Tot. de países no cluster do BNDES x num. de clusters')\n",
    "plt.xlabel('Numero de clusters')\n",
    "plt.ylabel('Total de paises no cluster do BNDES')\n",
    "plt.savefig('../img/n_clusters_'+setor+'.svg')\n",
    "plt.show()"
   ]
  },
  {
   "cell_type": "markdown",
   "metadata": {},
   "source": [
    "Vemos que o *BNDES* se agrupa no máximo com 1 país, ao ser clusterizado com 2 clusters. \n",
    "\n",
    "<br> Dentre os 12, os países que se agruparam com o *BNDES* nesse setor foram , segundo o gráfico:"
   ]
  },
  {
   "cell_type": "code",
   "execution_count": null,
   "metadata": {},
   "outputs": [],
   "source": [
    "countries = np.array(paises_similares_dict['2'])\n",
    "\n",
    "sns.lineplot(data = concat[countries])"
   ]
  },
  {
   "cell_type": "markdown",
   "metadata": {},
   "source": [
    "Nessa clusterização, o *BNDES* se agrupou com a China."
   ]
  },
  {
   "cell_type": "markdown",
   "metadata": {},
   "source": [
    "## Setor - Agropecuária"
   ]
  },
  {
   "cell_type": "code",
   "execution_count": null,
   "metadata": {},
   "outputs": [],
   "source": [
    "setor = \"agropecuaria\"\n",
    "\n",
    "aux_wdi = wdi_t[4:].loc[:,pd.IndexSlice[:, relacao_01[setor][1]]]\n",
    "aux_wdi = aux_wdi.droplevel(1, axis=1)\n",
    "aux_wdi = aux_wdi.fillna(0)\n",
    "aux_wdi = aux_wdi.apply(lambda x: x.replace(0, x.iloc[np.array(x).nonzero()].mean()) if len(np.array(x).nonzero()[0]) > 0 else x\n",
    "                        , axis=0)\n",
    "aux_wdi = aux_wdi.loc[lista_anos_interesse.astype(int)]\n",
    "\n",
    "concat = pd.concat([aux_wdi, pd.DataFrame({'BNDES': porcentoSetor[relacao_01[setor][0]]})], axis=1)\n",
    "concat.head()"
   ]
  },
  {
   "cell_type": "code",
   "execution_count": null,
   "metadata": {
    "scrolled": true
   },
   "outputs": [],
   "source": [
    "sns.lineplot(data=concat.loc[lista_anos_interesse.astype(int), paises_interesse_p])"
   ]
  },
  {
   "cell_type": "markdown",
   "metadata": {},
   "source": [
    "<p>Com esse gráfico relativo ao investimento percentual no setor de agropecuária, vemos que a tendência dos países mais desenvolvidos se manteve relativamente estável, ou desceu ao longo dos anos. O <em>BNDES</em> não acompanhou tão bem os países mais desenvolvidos, investindo muito em agropecuária. Porém, no gráfico é possível perceber a relevância do <em>BNDES</em> para o Brasil, já que quando há uma subida súbita no gráfico do <em>BNDES</em>, o percentual investido do Brasil também sobe.</p>"
   ]
  },
  {
   "cell_type": "markdown",
   "metadata": {},
   "source": [
    "<p>Na Figura abaixo, vemos que a correlação dos desembolsos e a agropecuária é negativo <span class=\"math inline\">( − 0.37)</span>, o que é considerado uma correlação fraca. Isso significa que, para o período analisado, o aumento nos investimentos por parte do <em>BNDES</em> no setor de agropecuária esteve relacionado a um decrescimento do PIB.</p>\n",
    "<p>Vale notar que, pelo PIB ser composto por muitos outros fatores além dos resultados financeiros advindos da agropecuária, essa análise não pode ser generalizada. Em outras palavras, o aumento no investimento da agropecuária não necessariamente acarreta uma diminuição do PIB.</p>\n"
   ]
  },
  {
   "cell_type": "code",
   "execution_count": null,
   "metadata": {},
   "outputs": [],
   "source": [
    "paises = ['Brazil', 'Patrimônio BNDES', 'PIB Brasileiro']\n",
    "\n",
    "concat_gdp = pd.concat([concat, pct_change, wdi_t.loc[lista_anos_interesse.astype(int),idx[['Brazil'], ['GDP growth (annual %)']]]], axis=1)\n",
    "col = list(concat_gdp.columns[:-1])\n",
    "col.append('PIB Brasileiro')\n",
    "concat_gdp.columns = col\n",
    "concat_gdp.rename(columns = {'patrimonio_liquido': 'Patrimônio BNDES'}, inplace = True)\n",
    "\n",
    "corr_df = concat_gdp.loc[lista_anos_interesse.astype(int), paises]\n",
    "corr_df = pd.concat([corr_df, pd.DataFrame({'BNDES - Agropecuária': porcentoSetor['AGROPECUÁRIA']})], axis=1)\n",
    "corr_df = corr_df[['BNDES - Agropecuária', 'Brazil','Patrimônio BNDES', 'PIB Brasileiro']]\n",
    "sns.heatmap(corr_df.corr(),\n",
    "    annot=True,\n",
    "    linewidths=.5)\n",
    "\n",
    "plt.savefig('../img/corr.svg')"
   ]
  },
  {
   "cell_type": "markdown",
   "metadata": {},
   "source": [
    "<p>Selecionamos alguns países relevantes no contexto internacional para clusterizar junto com o <em>BNDES</em>.<br> O resultado está na Figura :</p>"
   ]
  },
  {
   "cell_type": "code",
   "execution_count": null,
   "metadata": {},
   "outputs": [],
   "source": [
    "concat = concat[paises_interesse]"
   ]
  },
  {
   "cell_type": "code",
   "execution_count": null,
   "metadata": {},
   "outputs": [],
   "source": [
    "#ANALISE DO NUMERO DE CLUSTER\n",
    "def cidade_grupo(nclusters, pais='BNDES'):\n",
    "    pais_index = list(concat.columns).index(pais) \n",
    "    lista_paises = list()\n",
    "    \n",
    "    for _ in range(20):\n",
    "        clustering = KMeans(n_clusters=nclusters,algorithm='full').fit(concat.values.T)\n",
    "        lista_paises += (list(concat.columns[np.where(clustering.labels_ == clustering.labels_[pais_index])[0]]))\n",
    "        \n",
    "    return set(lista_paises)\n",
    "\n",
    "paises_similares_dict = {} \n",
    "ncls = []\n",
    "n_clusters = np.array(range(2,6))\n",
    "for k in n_clusters:\n",
    "    listpaises = cidade_grupo(k)\n",
    "    paises_similares_dict[str(k)] = list(listpaises)\n",
    "    ncls.append(len(listpaises))\n",
    "    \n",
    "plt.bar(range(len(ncls)),ncls)\n",
    "plt.xticks(range(len(n_clusters)), range(n_clusters.min(),n_clusters.max() + 1))\n",
    "plt.title('Tot. de países no cluster do BNDES x num. de clusters')\n",
    "plt.xlabel('Numero de clusters')\n",
    "plt.ylabel('Total de paises no cluster do BNDES')\n",
    "plt.savefig('../img/n_clusters_'+setor+'.svg')\n",
    "plt.show()"
   ]
  },
  {
   "cell_type": "markdown",
   "metadata": {},
   "source": [
    "<p>Com 2 Clusters, o <em>BNDES</em> se agrupou com 3 outros países, com mais que 2, o <em>BNDES</em> não conseguiu se assimilar a nenhum país.</p>\n",
    "<p>Os países que se agruparam com o <em>BNDES</em> nesse setor foram:</p>\n",
    "<p>O <em>BNDES</em> se assimila à China, Argentina e ao Uruguai.</p>"
   ]
  },
  {
   "cell_type": "code",
   "execution_count": null,
   "metadata": {},
   "outputs": [],
   "source": [
    "countries = np.array(paises_similares_dict['2'])\n",
    "\n",
    "sns.lineplot(data = concat[countries])"
   ]
  },
  {
   "cell_type": "markdown",
   "metadata": {},
   "source": [
    "## Setor - Serviços"
   ]
  },
  {
   "cell_type": "code",
   "execution_count": null,
   "metadata": {},
   "outputs": [],
   "source": [
    "setor = \"servicos\"\n",
    "\n",
    "aux_wdi = wdi_t[4:].loc[:,pd.IndexSlice[:, relacao_01[setor][1]]]\n",
    "aux_wdi = aux_wdi.droplevel(1, axis=1)\n",
    "aux_wdi = aux_wdi.fillna(0)\n",
    "aux_wdi = aux_wdi.apply(lambda x: x.replace(0, x.iloc[np.array(x).nonzero()].mean()) if len(np.array(x).nonzero()[0]) > 0 else x\n",
    "                        , axis=0)\n",
    "aux_wdi = aux_wdi.loc[lista_anos_interesse.astype(int)]\n",
    "\n",
    "concat = pd.concat([aux_wdi, pd.DataFrame({'BNDES': porcentoSetor[relacao_01[setor][0]]})], axis=1)\n",
    "concat.head()"
   ]
  },
  {
   "cell_type": "code",
   "execution_count": null,
   "metadata": {},
   "outputs": [],
   "source": [
    "sns.lineplot(data=concat.loc[lista_anos_interesse.astype(int), paises_interesse_p])"
   ]
  },
  {
   "cell_type": "markdown",
   "metadata": {},
   "source": [
    "No setor de serviços, os países mais desenvolvidos se mantiveram estáveis, com exceção da China, que veio se desenvolvendo e incrementando os investimentos em serviços. O *BNDES* teve um comportamento interessante, e de certa forma acompanhou o crescimento dos investimentos da China no determinado setor, o que é otimista, pois a China é o país que mais cresce tecnologicamente e economicamente nos tempos atuais.\n",
    " "
   ]
  },
  {
   "cell_type": "markdown",
   "metadata": {},
   "source": [
    "Nas células abaixo, vamos clusterizar com os países de interesse para ver com quais o \\textit{BNDES} se agrupa."
   ]
  },
  {
   "cell_type": "code",
   "execution_count": null,
   "metadata": {},
   "outputs": [],
   "source": [
    "concat = concat[paises_interesse]"
   ]
  },
  {
   "cell_type": "code",
   "execution_count": null,
   "metadata": {},
   "outputs": [],
   "source": [
    "#ANALISE DO NUMERO DE CLUSTER\n",
    "def cidade_grupo(nclusters, pais='BNDES'):\n",
    "    pais_index = list(concat.columns).index(pais) \n",
    "    lista_paises = list()\n",
    "    \n",
    "    for _ in range(20):\n",
    "        clustering = KMeans(n_clusters=nclusters,algorithm='full').fit(concat.values.T)\n",
    "        lista_paises += (list(concat.columns[np.where(clustering.labels_ == clustering.labels_[pais_index])[0]]))\n",
    "        \n",
    "    return set(lista_paises)\n",
    "\n",
    "paises_similares_dict = {} \n",
    "ncls = []\n",
    "n_clusters = np.array(range(2,6))\n",
    "for k in n_clusters:\n",
    "    listpaises = cidade_grupo(k)\n",
    "    paises_similares_dict[str(k)] = list(listpaises)\n",
    "    ncls.append(len(listpaises))\n",
    "    \n",
    "plt.bar(range(len(ncls)),ncls)\n",
    "plt.xticks(range(len(n_clusters)), range(n_clusters.min(),n_clusters.max() + 1))\n",
    "plt.title('Tot. de países no cluster do BNDES x num. de clusters')\n",
    "plt.xlabel('Numero de clusters')\n",
    "plt.ylabel('Total de paises no cluster do BNDES')\n",
    "plt.savefig('../img/n_clusters_'+setor+'.svg')\n",
    "plt.show()"
   ]
  },
  {
   "cell_type": "markdown",
   "metadata": {},
   "source": [
    "Nessa clusterização sobre o setor de serviços ele ficou sozinho no agrupamento. <br>\n",
    "Como vemos na imagem abaixo:"
   ]
  },
  {
   "cell_type": "code",
   "execution_count": null,
   "metadata": {},
   "outputs": [],
   "source": [
    "countries = np.array(paises_similares_dict['2'])\n",
    "\n",
    "sns.lineplot(data = concat[countries])"
   ]
  }
 ],
 "metadata": {
  "interpreter": {
   "hash": "524f6e4378c1991495e1ca399e46649b8c666811c7bdb802646faf1c5df87e61"
  },
  "kernelspec": {
   "display_name": "Python 3",
   "language": "python",
   "name": "python3"
  },
  "language_info": {
   "codemirror_mode": {
    "name": "ipython",
    "version": 3
   },
   "file_extension": ".py",
   "mimetype": "text/x-python",
   "name": "python",
   "nbconvert_exporter": "python",
   "pygments_lexer": "ipython3",
   "version": "3.8.8"
  }
 },
 "nbformat": 4,
 "nbformat_minor": 2
}
