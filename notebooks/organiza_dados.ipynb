{
 "cells": [
  {
   "cell_type": "code",
   "execution_count": null,
   "metadata": {},
   "outputs": [],
   "source": [
    "import pandas as pd\n",
    "import seaborn as sns\n",
    "import datetime\n",
    "import matplotlib.pyplot as plt\n",
    "import numpy as np\n",
    "import zipfile\n",
    "import plotly.graph_objects as go\n",
    "import datetime\n",
    "from sklearn.cluster import KMeans"
   ]
  },
  {
   "cell_type": "markdown",
   "metadata": {},
   "source": [
    "# Introducao\n",
    "## Bases Utilizadas\n",
    "\n",
    "- [Base BNDES (Desembolsos)](https://dadosabertos.bndes.gov.br/dataset/desembolsos-mensais/resource/aac5c7bd-5d18-41c3-9720-52d20470427e) (Carregada por meio da API do portal de dados abertos do BNDES)\n",
    "\n",
    "- [Base WDI (Países)](https://datatopics.worldbank.org/world-development-indicators/) (Carregada localmente)\n"
   ]
  },
  {
   "cell_type": "markdown",
   "metadata": {},
   "source": [
    "# Base Desembolsos Mensais"
   ]
  },
  {
   "cell_type": "code",
   "execution_count": null,
   "metadata": {},
   "outputs": [],
   "source": [
    "url_desembolsos = \"https://dadosabertos.bndes.gov.br/dataset/c529f6a7-5ce4-4378-a585-92cbf53af710/resource/aac5c7bd-5d18-41c3-9720-52d20470427e/download/desembolsos-mensais.csv\"\n",
    "\n",
    "df_desembolsos = pd.read_csv(url_desembolsos, sep=';',decimal=\",\")"
   ]
  },
  {
   "cell_type": "markdown",
   "metadata": {},
   "source": [
    "# Tratandos os dados dos desembolsos"
   ]
  },
  {
   "cell_type": "code",
   "execution_count": null,
   "metadata": {},
   "outputs": [],
   "source": [
    "df_desembolsos['date'] = pd.to_datetime(df_desembolsos['ano'].astype(str) + '-' + df_desembolsos['mes'].astype(str) + '-' + \"01\")\n",
    "df_desembolsos.loc[:,['regiao', 'uf', 'municipio']] = df_desembolsos.loc[:,['regiao', 'uf', 'municipio']].replace('\\s*$', '',regex=True)\n",
    "df_desembolsos.sort_values(by=['date'], inplace=True)\n",
    "df_desembolsos.head()"
   ]
  },
  {
   "cell_type": "markdown",
   "metadata": {},
   "source": [
    "# Agrupando os dados do BNDES por setor e subsetor e plotando"
   ]
  },
  {
   "cell_type": "code",
   "execution_count": null,
   "metadata": {},
   "outputs": [],
   "source": [
    "desembolsosBySetor = pd.DataFrame(df_desembolsos.groupby(by=[\"ano\", \"setor_bndes\"]).sum().desembolsos_reais).unstack()\n",
    "desembolsosBySetor.columns = desembolsosBySetor.columns.levels[1]\n",
    "\n",
    "sns.lineplot(data=desembolsosBySetor)\n",
    "plt.savefig('../img/investimento_setor_bndes_bruto.svg')"
   ]
  },
  {
   "cell_type": "code",
   "execution_count": null,
   "metadata": {},
   "outputs": [],
   "source": [
    "desembolsosBySubsetor = pd.DataFrame(df_desembolsos.groupby(by=[\"ano\", \"subsetor_bndes\"]).sum().desembolsos_reais).unstack()\n",
    "desembolsosBySubsetor = desembolsosBySubsetor.droplevel(0, axis=1)\n",
    "\n",
    "\n",
    "fig = go.Figure([go.Scatter(x=desembolsosBySubsetor.index, y=desembolsosBySubsetor[i].values, name=i) for i in desembolsosBySubsetor.columns])\n",
    "fig.show()"
   ]
  },
  {
   "cell_type": "markdown",
   "metadata": {},
   "source": [
    "# Calculando a porcentagem de investimento em cada área e plotando"
   ]
  },
  {
   "cell_type": "code",
   "execution_count": null,
   "metadata": {},
   "outputs": [],
   "source": [
    "porcentoSetor = desembolsosBySetor.div(desembolsosBySetor.sum(axis=1), axis=0)\n",
    "porcentoSetor = porcentoSetor.apply(lambda x: x*100)\n",
    "\n",
    "sns.lineplot(data=porcentoSetor)\n",
    "plt.savefig('../img/investimento_setor_bndes_normalizado.svg')"
   ]
  },
  {
   "cell_type": "code",
   "execution_count": null,
   "metadata": {},
   "outputs": [],
   "source": [
    "subsetores = ['AGROPECUÁRIA', 'ALIMENTO E BEBIDA']\n",
    "\n",
    "porcentoSubsetor = desembolsosBySubsetor.div(desembolsosBySubsetor.sum(axis=1), axis=0)\n",
    "porcentoSubsetor = porcentoSubsetor.apply(lambda x: x*100)\n",
    "\n",
    "fig = go.Figure([go.Scatter(x=porcentoSubsetor.index, y=porcentoSubsetor[i].values, name=i) for i in subsetores])\n",
    "fig.show()"
   ]
  },
  {
   "cell_type": "markdown",
   "metadata": {},
   "source": [
    "# Base WDI"
   ]
  },
  {
   "cell_type": "code",
   "execution_count": null,
   "metadata": {},
   "outputs": [],
   "source": [
    "wdi_zip = zipfile.ZipFile('../data/WDI_csv.zip')\n",
    "df_wdi = pd.read_csv(wdi_zip.open('WDIData.csv'))"
   ]
  },
  {
   "cell_type": "code",
   "execution_count": null,
   "metadata": {},
   "outputs": [],
   "source": [
    "df_wdi.head(3)"
   ]
  },
  {
   "cell_type": "markdown",
   "metadata": {},
   "source": [
    "Vamos checar agora quais anos sao cobertos pelos dados do BNDES para filtrarmos a base WDI com dados de nosso interesse."
   ]
  },
  {
   "cell_type": "code",
   "execution_count": null,
   "metadata": {},
   "outputs": [],
   "source": [
    "lista_anos_interesse = df_desembolsos['ano'].sort_values().unique().astype(str)\n",
    "\n",
    "print(lista_anos_interesse)"
   ]
  },
  {
   "cell_type": "markdown",
   "metadata": {},
   "source": [
    "Vemos que sao dados a partir de 1995 com termino em 2020. Com essas informacoes, vamos filtrar as colunas da base wdi. Vamos manter as colunas contendo o nome do pais, codigo do pais e nome do indicador (Country Name, Country Code, Indicator Name)"
   ]
  },
  {
   "cell_type": "code",
   "execution_count": null,
   "metadata": {},
   "outputs": [],
   "source": [
    "df_wdi[lista_anos_interesse]"
   ]
  },
  {
   "cell_type": "code",
   "execution_count": null,
   "metadata": {},
   "outputs": [],
   "source": [
    "cols_wdi_indicadores =[\"Chemicals (% of value added in manufacturing)\",\n",
    "                        \"Agriculture, forestry, and fishing, value added (% of GDP)\",                        \n",
    "                        \"Industry (including construction), value added (% of GDP)\",\n",
    "                        \"Services, value added (% of GDP)\",\n",
    "                        \"Manufacturing, value added (% of GDP)\",\n",
    "                        \"Food, beverages and tobacco (% of value added in manufacturing)\",\n",
    "                        \"Textiles and clothing (% of value added in manufacturing)\", \n",
    "                        \"Machinery and transport equipment (% of value added in manufacturing)\",\n",
    "                        \"Other manufacturing (% of value added in manufacturing)\",\n",
    "                        \"GDP per capita growth (annual %)\"]"
   ]
  },
  {
   "cell_type": "code",
   "execution_count": null,
   "metadata": {},
   "outputs": [],
   "source": [
    "for i in cols_wdi_indicadores:\n",
    "    print(i)"
   ]
  },
  {
   "cell_type": "code",
   "execution_count": null,
   "metadata": {},
   "outputs": [],
   "source": [
    "for i in df_desembolsos['subsetor_bndes'].unique():\n",
    "    print(i)"
   ]
  },
  {
   "cell_type": "code",
   "execution_count": null,
   "metadata": {},
   "outputs": [],
   "source": [
    "cols_desembolsos_indicadores = ['QUÍMICA E PETROQUÍMICA',\n",
    "                                'AGROPECUÁRIA',\n",
    "                                'CONSTRUÇÃO',\n",
    "                                'COMÉRCIO E SERVIÇOS',\n",
    "                                'OUTROS TRANSPORTES',\n",
    "                                'MATERIAL DE TRANSPORTE',\n",
    "                                'ALIMENTO E BEBIDA',\n",
    "                                'ENERGIA ELÉTRICA',\n",
    "                                'CELULOSE E PAPEL',\n",
    "                                'TELECOMUNICAÇÕES',\n",
    "                                'METALURGIA E PRODUTOS',\n",
    "                                'EXTRATIVA',\n",
    "                                'TRANSPORTE FERROVIÁRIO',\n",
    "                                'ATV. AUX. TRANSPORTES',\n",
    "                                'MECÂNICA',                                \n",
    "                                'SERV. UTILIDADE PÚBLICA',\n",
    "                                'TÊXTIL E VESTUÁRIO',\n",
    "                                'OUTRAS',\n",
    "                                'TRANSPORTE RODOVIÁRIO',\n",
    "                                'OUTROS']"
   ]
  },
  {
   "cell_type": "code",
   "execution_count": null,
   "metadata": {},
   "outputs": [],
   "source": [
    "df_desembolsos['subsetor_cnae_agrupado'].sort_values().unique()"
   ]
  },
  {
   "cell_type": "markdown",
   "metadata": {},
   "source": [
    "Selecionar melhor estrutura para o dicionario"
   ]
  },
  {
   "cell_type": "code",
   "execution_count": null,
   "metadata": {},
   "outputs": [],
   "source": [
    "relacao_01 = {\"quimica\" : [\"QUÍMICA E PETROQUÍMICA\", \"Chemicals (% of value added in manufacturing)\"], \n",
    "              \"agropecuaria\": [\"AGROPECUÁRIA\", \"Agriculture, forestry, and fishing, value added (% of GDP)\"], \n",
    "              \"industria\": [[\"CELULOSE E PAPEL\",\"METALURGIA E PRODUTOS\",\"EXTRATIVA\", \"CONSTRUÇÃO\"], \"Industry (including construction), value added (% of GDP)\"],\n",
    "              \"servicos\":[[\"COMÉRCIO E SERVIÇOS\", \"ENERGIA ELÉTRICA\", \"TELECOMUNICAÇÕES\", \"TRANSPORTE FERROVIÁRIO\", \"ATV. AUX. TRANSPORTES\", \"SERV. UTILIDADE PÚBLICA\", \"TRANSPORTE RODOVIÁRIO\"], \"Services, value added (% of GDP)\"],\n",
    "              \"maquinario\":[[\"MATERIAL DE TRANSPORTE\", \"MECÂNICA\"], \"Machinery and transport equipment (% of value added in manufacturing)\"],\n",
    "              \"alimentacao_tabaco\": [\"ALIMENTO E BEBIDA\", \"Food, beverages and tobacco (% of value added in manufacturing)\"],\n",
    "              \"textil\": [\"TÊXTIL E VESTUÁRIO\", \"Textiles and clothing (% of value added in manufacturing)\"] }\n",
    "\n",
    "relacao_02 = {\"Chemicals (% of value added in manufacturing)\" : [\"QUÍMICA E PETROQUÍMICA\"], \n",
    "              \"Agriculture, forestry, and fishing, value added (% of GDP)\": [\"AGROPECUÁRIA\"], \n",
    "              \"Industry (including construction), value added (% of GDP)\": [\"CELULOSE E PAPEL\",\"METALURGIA E PRODUTOS\",\"EXTRATIVA\", \"CONSTRUÇÃO\"],\n",
    "              \"Services, value added (% of GDP)\":[[\"COMÉRCIO E SERVIÇOS\", \"ENERGIA ELÉTRICA\", \"TELECOMUNICAÇÕES\", \"TRANSPORTE FERROVIÁRIO\", \"ATV. AUX. TRANSPORTES\", \"SERV. UTILIDADE PÚBLICA\", \"TRANSPORTE RODOVIÁRIO\"]],\n",
    "              \"Machinery and transport equipment (% of value added in manufacturing)\":[\"MATERIAL DE TRANSPORTE\", \"MECÂNICA\"],\n",
    "              \"Food, beverages and tobacco (% of value added in manufacturing)\": [\"ALIMENTO E BEBIDA\"],\n",
    "              \"Textiles and clothing (% of value added in manufacturing)\": [\"TÊXTIL E VESTUÁRIO\"]}"
   ]
  },
  {
   "cell_type": "markdown",
   "metadata": {},
   "source": [
    "# Agrupando os dados de desembolso de acordo com os setores definidos no dicionário relacao_01"
   ]
  },
  {
   "cell_type": "code",
   "execution_count": null,
   "metadata": {},
   "outputs": [],
   "source": [
    "percentageSeries = [porcentoSubsetor[relacao_01[i][0]].T.sum() if isinstance(relacao_01[i][0], list) else porcentoSubsetor[relacao_01[i][0]] for i in relacao_01.keys()]\n",
    "\n",
    "df_desembolsos_organizado = pd.DataFrame(percentageSeries, index=relacao_01.keys()).T\n",
    "df_desembolsos_organizado.head()"
   ]
  },
  {
   "cell_type": "markdown",
   "metadata": {},
   "source": [
    "# Tratando os dados da base WDI para usar-los na clusterização"
   ]
  },
  {
   "cell_type": "code",
   "execution_count": null,
   "metadata": {
    "scrolled": false
   },
   "outputs": [],
   "source": [
    "wdi_t = df_wdi.T\n",
    "idx = pd.IndexSlice\n",
    "\n",
    "wdi_t.columns = pd.MultiIndex.from_product([wdi_t.loc['Country Name'].unique(), wdi_t.loc['Indicator Name'].unique()])\n",
    "wdi_t.drop(labels=['Country Name','Indicator Name', 'Country Code'], axis=0, inplace=True)\n",
    "wdi_t.drop(index=['Indicator Code','Unnamed: 65'], inplace=True)\n",
    "wdi_t.index = list(wdi_t.index.str.extract(r'([0-9]{4})').values.astype(int).reshape((1,-1)))\n",
    "wdi_t.index = [i[0] for i in wdi_t.index.to_flat_index()]\n",
    "wdi_t.index = wdi_t.index.astype(int)\n",
    "wdi_t.replace(regex=r'^.*$', value=np.nan, inplace=True)\n",
    "wdi_t = wdi_t.apply(pd.to_numeric)\n",
    "wdi_t.head()"
   ]
  },
  {
   "cell_type": "code",
   "execution_count": null,
   "metadata": {
    "scrolled": false
   },
   "outputs": [],
   "source": [
    "countries = ['Brazil', 'United States', 'China', 'Germany', 'United Kingdom', 'Japan']\n",
    "\n",
    "sns.lineplot(data=wdi_t.loc[lista_anos_interesse.astype(int),idx[countries, ['GDP (current US$)']]])\n",
    "plt.savefig('../img/pib_paises.svg')"
   ]
  },
  {
   "cell_type": "code",
   "execution_count": null,
   "metadata": {},
   "outputs": [],
   "source": [
    "countries = ['Brazil']\n",
    "\n",
    "sns.heatmap(\n",
    "    wdi_t.loc[lista_anos_interesse.astype(int),idx[countries,[relacao_01['servicos'][1]] + [relacao_01['industria'][1]] + [relacao_01['agropecuaria'][1]] + ['GDP growth (annual %)']]].corr(),\n",
    "    annot=True,\n",
    "    linewidths=.5,\n",
    "    xticklabels=['% de investimento em Serviços', '% de investimento em Indústria', '% de investimento em Agropecuária', 'PIB'], \n",
    "    yticklabels=['% de investimento em Serviços', '% de investimento em Indústria', '% de investimento em Agropecuária', 'PIB']\n",
    ")\n",
    "plt.savefig('../img/corr.svg')"
   ]
  },
  {
   "cell_type": "code",
   "execution_count": null,
   "metadata": {},
   "outputs": [],
   "source": [
    "setor='industria'\n",
    "countries = ['Brazil', 'Spain', 'Mexico', 'Turkey', 'Germany','World']\n",
    "\n",
    "fig = go.Figure([go.Scatter(\n",
    "    x=wdi_t.loc[:,idx[:,relacao_01[setor][1]]].index, \n",
    "    y=wdi_t.loc[:,idx[:,relacao_01[setor][1]]][i].values.flatten(), name=i) \n",
    "    for i in countries])\n",
    "fig.show()"
   ]
  },
  {
   "cell_type": "markdown",
   "metadata": {},
   "source": [
    "# Construindo o dataframe concatenando os dados da wdi e do BNDES para aplcar a clusterização"
   ]
  },
  {
   "cell_type": "code",
   "execution_count": null,
   "metadata": {},
   "outputs": [],
   "source": [
    "setor = \"industria\"\n",
    "\n",
    "aux_wdi = wdi_t[4:].loc[:,pd.IndexSlice[:, relacao_01[setor][1]]]\n",
    "aux_wdi = aux_wdi.droplevel(1, axis=1)\n",
    "aux_wdi = aux_wdi.fillna(0)\n",
    "aux_wdi = aux_wdi.apply(lambda x: x.replace(0, x.iloc[np.array(x).nonzero()].mean()) if len(np.array(x).nonzero()[0]) > 0 else x\n",
    "                        , axis=0)\n",
    "aux_wdi = aux_wdi.loc[lista_anos_interesse.astype(int)]\n",
    "\n",
    "concat = pd.concat([aux_wdi, pd.DataFrame({'BNDES': df_desembolsos_organizado[setor]})], axis=1)\n",
    "concat.head()"
   ]
  },
  {
   "cell_type": "code",
   "execution_count": null,
   "metadata": {},
   "outputs": [],
   "source": [
    "url_balanco = \"https://dadosabertos.bndes.gov.br/dataset/8d01af82-301b-4481-a2fc-3daf3a7bdf03/resource/159c6303-973d-413a-8de7-5343c318d37e/download/indicadores-financeiros-balanco-patrimonial-serie-historica.csv\"\n",
    "df_balanco = pd.read_csv(url_balanco, sep=';',decimal=\",\")\n",
    "df_balanco['data'] = pd.to_datetime(df_balanco['data'])\n",
    "df_balanco['ano'] = df_balanco.data.dt.year\n",
    "df_balanco_interesse = df_balanco[[\"patrimonio_liquido\", 'ano']].groupby('ano').mean()\n",
    "pct_change = df_balanco_interesse.pct_change()\n",
    "pct_change = pct_change * 100"
   ]
  },
  {
   "cell_type": "code",
   "execution_count": null,
   "metadata": {},
   "outputs": [],
   "source": [
    "paises = ['Brazil', 'BNDES', 'patrimonio_liquido', 'PIB Brasileiro']\n",
    "\n",
    "concat_gdp = pd.concat([concat, pct_change, wdi_t.loc[lista_anos_interesse.astype(int),idx[['Brazil'], ['GDP growth (annual %)']]]], axis=1)\n",
    "col = list(concat_gdp.columns[:-1])\n",
    "col.append('PIB Brasileiro')\n",
    "concat_gdp.columns = col\n",
    "\n",
    "sns.lineplot(data=concat_gdp.loc[lista_anos_interesse.astype(int), paises])\n",
    "plt.savefig('../img/brasil_bndes_crescimentopib.svg')"
   ]
  },
  {
   "cell_type": "code",
   "execution_count": null,
   "metadata": {},
   "outputs": [],
   "source": [
    "sns.heatmap(concat_gdp.loc[lista_anos_interesse.astype(int), paises].corr(),\n",
    "    annot=True,\n",
    "    linewidths=.5)"
   ]
  },
  {
   "cell_type": "markdown",
   "metadata": {},
   "source": [
    "# Clusterizando"
   ]
  },
  {
   "cell_type": "code",
   "execution_count": null,
   "metadata": {},
   "outputs": [],
   "source": [
    "#ANALISE DO NUMERO DE CLUSTER\n",
    "def cidade_grupo(nclusters, pais='BNDES'):\n",
    "    pais_index = list(concat.columns).index(pais) \n",
    "    \n",
    "    clustering = KMeans(n_clusters=nclusters,algorithm='full').fit(concat.values.T)\n",
    "    lista_paises = concat.columns[np.where(clustering.labels_ == clustering.labels_[pais_index])[0]]\n",
    "    return set(lista_paises)\n",
    "\n",
    "paises_similares_dict = {} \n",
    "ncls = []\n",
    "n_clusters = np.array(range(10,30))\n",
    "for k in n_clusters:\n",
    "    listpaises = cidade_grupo(k)\n",
    "    paises_similares_dict[str(k)] = list(listpaises)\n",
    "    ncls.append(len(listpaises))\n",
    "    \n",
    "plt.bar(range(len(ncls)),ncls)\n",
    "plt.xticks(range(len(n_clusters)), range(n_clusters.min(),n_clusters.max() + 1))\n",
    "plt.title('Tot. de países no cluster do BNDES x num. de clusters')\n",
    "plt.xlabel('Numero de clusters')\n",
    "plt.ylabel('Total de paises no cluster do BNDES')\n",
    "plt.show()"
   ]
  },
  {
   "cell_type": "code",
   "execution_count": null,
   "metadata": {},
   "outputs": [],
   "source": [
    "countries = np.array(paises_similares_dict['25'])\n",
    "\n",
    "fig = go.Figure([go.Scatter(\n",
    "    x=concat.index, \n",
    "    y=concat[i], name=i) \n",
    "    for i in countries])\n",
    "fig.show()"
   ]
  },
  {
   "cell_type": "markdown",
   "metadata": {},
   "source": [
    "# Construindo o dataframe do crescimento percentual por anos nos investimentos por subsetor do BNDES"
   ]
  },
  {
   "cell_type": "code",
   "execution_count": null,
   "metadata": {},
   "outputs": [],
   "source": [
    "pct_change_subsetor = desembolsosBySubsetor.pct_change()\n",
    "pct_change_subsetor.head()"
   ]
  },
  {
   "cell_type": "markdown",
   "metadata": {},
   "source": [
    "# Construindo o dataframe do crescimento percentual por anos nos investimentos por setor do BNDES"
   ]
  },
  {
   "cell_type": "code",
   "execution_count": null,
   "metadata": {},
   "outputs": [],
   "source": [
    "pct_change_setor = pd.DataFrame(df_desembolsos.groupby(by=[\"ano\", \"setor_bndes\"]).sum().desembolsos_reais).unstack()\n",
    "pct_change_setor.columns = pct_change_setor.columns.levels[1]\n",
    "pct_change_setor = pct_change_setor.pct_change()\n",
    "pct_change_setor.head()"
   ]
  },
  {
   "cell_type": "code",
   "execution_count": null,
   "metadata": {
    "scrolled": true
   },
   "outputs": [],
   "source": [
    "wdi_annual_growth = df_wdi[df_wdi['Indicator Name'].str.match(r'^.*annual % growth.*$')].T\n",
    "idx = pd.IndexSlice\n",
    "\n",
    "wdi_annual_growth.columns = pd.MultiIndex.from_product([wdi_annual_growth.loc['Country Name'].unique(), wdi_annual_growth.loc['Indicator Name'].unique()])\n",
    "wdi_annual_growth.drop(labels=['Country Name','Indicator Name', 'Country Code'], axis=0, inplace=True)\n",
    "wdi_annual_growth.drop(index=['Indicator Code','Unnamed: 65'], inplace=True)\n",
    "wdi_annual_growth.index = list(wdi_annual_growth.index.str.extract(r'([0-9]{4})').values.astype(int).reshape((1,-1)))\n",
    "wdi_annual_growth.replace(regex=r'^.*$', value=np.nan, inplace=True)\n",
    "wdi_annual_growth = wdi_annual_growth.apply(pd.to_numeric)\n",
    "wdi_annual_growth.head()"
   ]
  },
  {
   "cell_type": "code",
   "execution_count": null,
   "metadata": {},
   "outputs": [],
   "source": [
    "relacao_pct_change = { \"agropecuaria\": [\"AGROPECUÁRIA\", \"Agriculture, forestry, and fishing, value added (annual % growth)\"], \n",
    "              \"industria\": [ \"INDUSTRIA\", \"Industry (including construction), value added (annual % growth)\"],\n",
    "              \"servicos\": [\"COMÉRCIO E SERVIÇOS\", \"Services, value added (annual % growth)\"] }"
   ]
  },
  {
   "cell_type": "code",
   "execution_count": null,
   "metadata": {
    "scrolled": true
   },
   "outputs": [],
   "source": [
    "setor = \"servicos\"\n",
    "\n",
    "aux_wdi_pct_change = wdi_annual_growth[4:].loc[:,pd.IndexSlice[:, relacao_pct_change[setor][1]]]\n",
    "aux_wdi_pct_change = aux_wdi_pct_change.droplevel(1, axis=1)\n",
    "aux_wdi_pct_change = aux_wdi_pct_change.fillna(0)\n",
    "aux_wdi_pct_change = aux_wdi_pct_change.apply(lambda x: x.replace(0, x.iloc[np.array(x).nonzero()].mean()) if len(np.array(x).nonzero()[0]) > 0 else x\n",
    "                        , axis=0)\n",
    "aux_wdi_pct_change.index = [i[0] for i in aux_wdi_pct_change.index.to_flat_index()]\n",
    "aux_wdi_pct_change.index = aux_wdi_pct_change.index.astype(int)\n",
    "aux_wdi_pct_change = aux_wdi_pct_change.loc[lista_anos_interesse[1:].astype(int)]\n",
    "\n",
    "concat_pct_change = pd.concat([aux_wdi_pct_change, pd.DataFrame({'BNDES': pct_change_setor.loc[1996:, relacao_pct_change[setor][0]]})], axis=1)\n",
    "concat_pct_change.head()"
   ]
  },
  {
   "cell_type": "markdown",
   "metadata": {},
   "source": [
    "# Clusterizando para mudança percentual"
   ]
  },
  {
   "cell_type": "code",
   "execution_count": null,
   "metadata": {
    "scrolled": true
   },
   "outputs": [],
   "source": [
    "#ANALISE DO NUMERO DE CLUSTER\n",
    "def cidade_grupo(nclusters, pais='BNDES'):\n",
    "    pais_index = list(concat_pct_change.columns).index(pais) \n",
    "    \n",
    "    clustering = KMeans(n_clusters=nclusters,algorithm='full').fit(concat_pct_change.values.T)\n",
    "    lista_paises = concat_pct_change.columns[np.where(clustering.labels_ == clustering.labels_[pais_index])[0]]\n",
    "    return set(lista_paises)\n",
    "\n",
    "paises_similares_dict = {} \n",
    "ncls = []\n",
    "n_clusters = np.array(range(40,50))\n",
    "for k in n_clusters:\n",
    "    listpaises = cidade_grupo(k)\n",
    "    paises_similares_dict[str(k)] = list(listpaises)\n",
    "    ncls.append(len(listpaises))\n",
    "    \n",
    "plt.bar(range(len(ncls)),ncls)\n",
    "plt.xticks(range(len(n_clusters)), range(n_clusters.min(),n_clusters.max() + 1))\n",
    "plt.title('Tot. de países no cluster do BNDES x num. de clusters')\n",
    "plt.xlabel('Numero de clusters')\n",
    "plt.ylabel('Total de paises no cluster do BNDES')\n",
    "plt.show()"
   ]
  },
  {
   "cell_type": "code",
   "execution_count": null,
   "metadata": {},
   "outputs": [],
   "source": [
    "countries = np.array(paises_similares_dict['40'])\n",
    "\n",
    "fig = go.Figure([go.Scatter(\n",
    "    x=concat.index, \n",
    "    y=concat[i], name=i) \n",
    "    for i in countries])\n",
    "fig.show()"
   ]
  },
  {
   "cell_type": "code",
   "execution_count": null,
   "metadata": {},
   "outputs": [],
   "source": []
  }
 ],
 "metadata": {
  "interpreter": {
   "hash": "524f6e4378c1991495e1ca399e46649b8c666811c7bdb802646faf1c5df87e61"
  },
  "kernelspec": {
   "display_name": "Python 3",
   "language": "python",
   "name": "python3"
  },
  "language_info": {
   "codemirror_mode": {
    "name": "ipython",
    "version": 3
   },
   "file_extension": ".py",
   "mimetype": "text/x-python",
   "name": "python",
   "nbconvert_exporter": "python",
   "pygments_lexer": "ipython3",
   "version": "3.8.8"
  }
 },
 "nbformat": 4,
 "nbformat_minor": 2
}
