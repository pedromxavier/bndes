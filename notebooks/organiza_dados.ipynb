{
 "cells": [
  {
   "cell_type": "markdown",
   "metadata": {},
   "source": [
    "<div id=\"header\">\n",
    "<h1 class=\"title\"> Prêmio Dados Abertos para o Desenvolvimento - BNDES</h1>\n",
    "<h2 class=\"author\">Time 15</h2>\n",
    "<h3 class=\"date\">Agosto de 2021</h3>\n",
    "</div>\n",
    "<p><span style=\"font-variant: small-caps;\">Time 15</span><br />\n",
    "<span style=\"font-variant: small-caps;\">E se o BNDES fosse um país?</span><br />\n",
    "</p>\n",
    "<hr />\n",
    "<p><br />\n",
    "<span> <strong></strong></span><br />\n",
    "</p>\n",
    "<hr />\n",
    "<p><br />\n",
    "</p>\n",
    "<p><em>Autores:</em><br />\n",
    "Caue Caviglioni<br />\n",
    "Marcello Campanelli<br />\n",
    "Pedro Xavier<br />\n",
    "Rafael Ribeiro<br />\n",
    "Ronald Albert<br />\n",
    "</p>"
   ]
  },
  {
   "cell_type": "markdown",
   "metadata": {},
   "source": [
    "<head>\n",
    "  <meta http-equiv=\"Content-Type\" content=\"text/html; charset=utf-8\" />\n",
    "  <meta http-equiv=\"Content-Style-Type\" content=\"text/css\" />\n",
    "  <meta name=\"generator\" content=\"pandoc\" />\n",
    "  <meta name=\"author\" content=\"Time 15\" />\n",
    "  <title> Prêmio Dados Abertos para o Desenvolvimento - BNDES</title>\n",
    "  <style type=\"text/css\">code{white-space: pre;}</style>\n",
    "</head>"
   ]
  },
  {
   "cell_type": "code",
   "execution_count": null,
   "metadata": {},
   "outputs": [],
   "source": [
    "import pandas as pd\n",
    "import seaborn as sns\n",
    "import datetime\n",
    "import matplotlib.pyplot as plt\n",
    "import numpy as np\n",
    "import zipfile\n",
    "import plotly.graph_objects as go\n",
    "import datetime\n",
    "from sklearn.cluster import KMeans"
   ]
  },
  {
   "cell_type": "markdown",
   "metadata": {},
   "source": [
    "<p><br />\n",
    "</p>\n",
    "<h1 id=\"introdução\"> Introdução </h1>\n",
    "<p>Com o avanço das tecnologias e a inserção do computador tanto no ambiente corporativo quanto no da população em geral, surgiu a possibilidade de se trabalhar com dados de maneira muito mais rápida e eficiente. Catalogar, processar e visualizar os dados deixaram de ser processos manuais e passaram a ser auxiliados por essas máquinas que revolucionaram o mundo.</p>\n",
    "<p>Atualmente, o cada vez maior número de <em>data lakes</em> torna evidente a tendência de empresas e órgãos públicos a tornarem seus dados acessíveis ao público geral. Dessa forma, observamos a crescente valorização dos dados abertos e de instituições mais transparentes.</p>\n",
    "<p>Aderindo a essa tendência, o Banco Nacional de Desenvolvimento Econômico e Social (<em>BNDES</em>) lançou seu <a href=\"https://www.bndes.gov.br/wps/portal/site/home/acesso-a-informacao/acesso-a-informacao-dados-abertos/!ut/p/z1/tVRNd6IwFN37K7phiUkkKJ0dIgUVba1fyMYTMGrmKKEh1XZ-_QSGzrSOtWdOOyx48Li5792bPEBUu7qq1UCognqobi8RRCk5sA2RjKdkB0KwiJrL4Lrv-vgWBt49RNA2-zf2rNM37IEJ5iUAvnPZEETqc2vkOb6NUWBNfAeOnJ56aXnI6yIwAxGIklRmcgsWcbqi-ZKluWTyMSk70OCW76kGSULznOtEZ-maiz1JCD-b1FdkxXOdxFRInhfkWcJWYNE0rDUyE6SvEFrrODGwHtMW0hutBGLcpDElsBJzQW10WWuvdPGPmYWdl-WH1YoK_juABfv-8BDZyhueSvokQdgedtzxsvvWHL80ZyJImmdE0DRhRIMsZSpKdiC5BjNB9-zUlnlhzGup0Li7gbYfoCketGGjj08Bt13DVQAnMLHbR961UQEuuLFQbrZeuXk3VCXMURt6LkbYx2B-YPQIpmmxdTsw_sfN8j-qMPpshVP6WbsD7aA7DrwpNCy38cX0J903_y-9-Un63tvz8feshGfO8NcPuKrSEANnsFHNE7ktgSD8eJ1qf7Pj8a9fnJ3GhqUYBF1TQUX9Uaj0Vsos_6ZBDR6Px3rZeX3DD_VYqExWTBYXsug_Z5K-qJDvTuK5OlueK1NO6UG2n-4t41mP4ua9_6M91D0nto6T9b4Kc0taz8Zu8xOEgb8o/dz/d5/L2dBISEvZ0FBIS9nQSEh/\"><em>Plano de Dados Abertos</em></a>, com o objetivo de promover ganhos à administração pública. Motivados por isso, trazemos neste documento análises contendo diversos dados abertos, não sendo esses restritos ao <em>BNDES</em>.</p>\n",
    "<h2 id=\"subsec:proposta\">Proposta de Análise</h2>\n",
    "<p>Avaliar a distribuição dos desembolsos do <em>BNDES</em> e comparar com diversos países, fazendo uso do crescimento percentual do <em>PIB</em> como parâmetro de sucesso econômico. Ao longo deste documento, vamos criar métricas de comparação a fim de traçar análises entre o <em>BNDES</em> e esses países referência, levantando questionamentos e insights.</p>\n",
    "<p>Os países serão escolhidos com base em sua relevância econômica, bem como pela similaridade entre o <em>BNDES</em> e os países em questão. Essa similaridade será tratada utilizando algoritmos de clusterização, já que seria ineficiente e raso analisar os países de forma apenas manual.</p>\n",
    "<h2 id=\"base-desembolsos-mensais-do-bndes\">Base Desembolsos Mensais do BNDES</h2>\n",
    "<p>Com a proposta acima, a base mais adequada a ser utilizada foi a de Desembolsos Mensais, que detalha os investimentos mensais do Sistema <em>BNDES</em>, por setores e por data, tendo uma cobertura temporal de 1995 até os meses atuais.</p>\n",
    "<p>Essa base foi especialmente boa, pois foi possível comparar os desembolsos do <em>BNDES</em> com os investimentos de outros países, isso permitiu que o <em>BNDES</em> fosse tratado analogamente como um país.</p>\n",
    "\n",
    "\n",
    "- [Base BNDES (Desembolsos)](https://dadosabertos.bndes.gov.br/dataset/desembolsos-mensais/resource/aac5c7bd-5d18-41c3-9720-52d20470427e) (Carregada por meio da API do portal de dados abertos do BNDES)\n"
   ]
  },
  {
   "cell_type": "code",
   "execution_count": null,
   "metadata": {},
   "outputs": [],
   "source": [
    "url_desembolsos = \"https://dadosabertos.bndes.gov.br/dataset/c529f6a7-5ce4-4378-a585-92cbf53af710/resource/aac5c7bd-5d18-41c3-9720-52d20470427e/download/desembolsos-mensais.csv\"\n",
    "\n",
    "df_desembolsos = pd.read_csv(url_desembolsos, sep=';',decimal=\",\")"
   ]
  },
  {
   "cell_type": "code",
   "execution_count": null,
   "metadata": {},
   "outputs": [],
   "source": [
    "df_desembolsos.head(15)"
   ]
  },
  {
   "cell_type": "markdown",
   "metadata": {},
   "source": [
    "<p>Informações interativas e mais detalhadas sobre a base podem ser encontradas no <a href=\"https://www.bndes.gov.br/wps/portal/site/home/transparencia/estatisticas-desempenho/estatisticas-operacionais-sistema-bndes\"><em>dashboards de desembolsos</em> </a> do <em>BNDES</em>.</p>"
   ]
  },
  {
   "cell_type": "markdown",
   "metadata": {},
   "source": [
    "<h2 id=\"subsec:dre\">Base DRE - Série Histórica</h2>"
   ]
  },
  {
   "cell_type": "markdown",
   "metadata": {},
   "source": [
    "<p>A base de <code>DRE - Série Histórica</code> trata da demonstração de diversos resultados do <em>BNDES</em>, e servirá de apoio à já citada criação da métrica de comparação, presente na Seção proposta. Utilizaremos ela como um paralelo ao <em>PIB</em> dos países comparados, como um parâmetro de sucesso ou insucesso econômico da instituição.</p>"
   ]
  },
  {
   "cell_type": "markdown",
   "metadata": {},
   "source": [
    "<H>Carregamento da base e leve tratamento dos dados:"
   ]
  },
  {
   "cell_type": "code",
   "execution_count": null,
   "metadata": {},
   "outputs": [],
   "source": [
    "url_balanco = \"https://dadosabertos.bndes.gov.br/dataset/8d01af82-301b-4481-a2fc-3daf3a7bdf03/resource/159c6303-973d-413a-8de7-5343c318d37e/download/indicadores-financeiros-balanco-patrimonial-serie-historica.csv\"\n",
    "df_balanco = pd.read_csv(url_balanco, sep=';',decimal=\",\")\n",
    "df_balanco['data'] = pd.to_datetime(df_balanco['data'])\n",
    "df_balanco['ano'] = df_balanco.data.dt.year\n",
    "df_balanco_interesse = df_balanco[[\"patrimonio_liquido\", 'ano']].groupby('ano').mean()\n",
    "pct_change = df_balanco_interesse.pct_change()\n",
    "pct_change = pct_change * 100"
   ]
  },
  {
   "cell_type": "markdown",
   "metadata": {},
   "source": [
    "<p>A base tem 77 registros e 35 colunas. As colunas de interesse da base são as de <code>data</code> e <code>patrimonio_liquido</code>, como mostradas na seção. A coluna referente ao patrimônio é tratada em milhões de reais.</p>"
   ]
  },
  {
   "cell_type": "markdown",
   "metadata": {},
   "source": [
    "<h2 id=\"base-wdi\">Base WDI</h2>\n",
    "<p>Outra base que será usada é a base <code>WDI</code>, fornecida pelo The World Bank, essa que contém indicadores de diversas áreas relacionadas a gestão pública para inúmeros países.</p>\n",
    "<p>A <code>WDI</code> é um <em>dataset</em> extremamente robusto. Para fins dessa análise, usaremos somente as colunas referentes a porcentagem de investimento em determinadas áreas e o crescimento anual do PIB de países.<br />\n",
    "Abaixo, uma imagem da base com as colunas de porcentagem de investimento anual em químicos, indústria e crescimento anual do PIB</p>\n",
    "\n",
    "- [Base WDI (Países)](https://datatopics.worldbank.org/world-development-indicators/) (Carregada localmente)"
   ]
  },
  {
   "cell_type": "code",
   "execution_count": null,
   "metadata": {},
   "outputs": [],
   "source": [
    "wdi_zip = zipfile.ZipFile('../data/WDI_csv.zip')\n",
    "df_wdi = pd.read_csv(wdi_zip.open('WDIData.csv'))"
   ]
  },
  {
   "cell_type": "code",
   "execution_count": null,
   "metadata": {},
   "outputs": [],
   "source": [
    "df_wdi.head(3)"
   ]
  },
  {
   "cell_type": "markdown",
   "metadata": {},
   "source": [
    "<p>A base foi coletada do <a href=\"https://databank.worldbank.org/source/world-development-indicators\"><em>website do The World Bank</em></a>.</p>"
   ]
  },
  {
   "cell_type": "markdown",
   "metadata": {},
   "source": [
    "<h1 id=\"análise-exploratória-dos-dados\">Análise exploratória dos dados</h1>"
   ]
  },
  {
   "cell_type": "markdown",
   "metadata": {},
   "source": [
    "<h2 id=\"base-desembolsos-mensais-do-bndes-1\">Base Desembolsos Mensais do BNDES</h2>\n",
    "<p>A base em questão tem <span class=\"math inline\">3244804</span> entradas e <span class=\"math inline\">16</span> colunas a serem analisadas. A descrição detalhada de cada coluna dessa base, já apresentada por alto na Figura [fig:base_bndes], pode ser encontrada no <a href=\"https://dadosabertos.bndes.gov.br/dataset/c529f6a7-5ce4-4378-a585-92cbf53af710/resource/d4cc2eda-8743-46de-a813-f9f1da018c0f/download/dicionario-de-dados-desembolsos-mensais-do-sistema-bndes.pdf\"><em>portal de dados abertos do BNDES</em></a>.</p>\n",
    "<p>Para o fim de nossa análise, vamos focar em uma granularidade temporal anual e de setores de investimento com base na coluna <code>setor_bndes</code>. Essas escolhas foram feitas visando tornar todas as três bases compatíveis.</p>\n",
    "<p>Abaixo vemos a quantidade de investimentos do BNDES por setor:</p>"
   ]
  },
  {
   "cell_type": "code",
   "execution_count": null,
   "metadata": {},
   "outputs": [],
   "source": [
    "RONALD - botar o gráfico aqui"
   ]
  },
  {
   "cell_type": "markdown",
   "metadata": {},
   "source": [
    "<p>Podemos observar pela figura que houve um considerável crescimento do investimento do BNDES entre os anos de 2006 e 2017 nas áreas de Infraestrutura, Comércio e Serviços e Indústria, no entanto, tal comportamento não foi observado em na área de Agropecuária.</p>\n",
    "<p>Para melhor observar essa relação de do investimento entre os setores, temos a figura abaixo, a qual nos mostra um gráfico de percentual investido em cada um dos setores anualmente."
   ]
  },
  {
   "cell_type": "code",
   "execution_count": null,
   "metadata": {},
   "outputs": [],
   "source": [
    "RONALD - botar o gráfico aqui"
   ]
  },
  {
   "cell_type": "markdown",
   "metadata": {},
   "source": [
    "<p>A partir do gráfico de percentuais vemos que os investimentos do BNDES, tem uma histórica preferencia pelos setores de Indústria e Infraestrutura. É possível observar também que a Agropecuária vinha perdendo espaço para os outros dois setores entre 2006 e 2015, no entanto, recuperando espaço nos últimos anos, a partir de 2018."
   ]
  },
  {
   "cell_type": "markdown",
   "metadata": {},
   "source": [
    "<h2 id=\"base-wdi-1\">Base WDI</h2>\n",
    "<p>Essa base possui dados de de muitos países, com diversos indicadores e com uma cobertura temporal de 1960 até 2020, no momento. No total, possui <span class=\"math inline\">383838</span> registros e <span class=\"math inline\">66</span> colunas, que vamos tratar com agrupamentos e filtros para extrair novas bases a serem utilizadas para cruzar com dados da base <em>BNDES</em>. Mais detalhes sobre essa extensa base estão <a href=\"https://datatopics.worldbank.org/world-development-indicators/\"><em>na página do The World Bank</em></a>.</p>\n",
    "<h1 id=\"tratamento-dos-dados-e-criação-de-uma-base-agregada\">Tratamento dos dados e criação de uma base agregada</h1>\n",
    "<p>A fim de criarmos análises sólidas de maneira mais rápida e simples, optamos por criar uma base agregada com informações de interesse presentes nas três bases anteriormente citadas.</p>\n",
    "<p>Vale mencionar que o alicerce desse cruzamento de informações entre as duas bases foi a relação encontrada no portal de dados abertos do <em>BNDES</em>, na base <code>Mapeamento de BNDES para CNAE</code>, bem como a comparação com o <a href=\"https://datatopics.worldbank.org/world-development-indicators/\"><em>dicionário de indicadores da base WDI</em></a>.</p>"
   ]
  },
  {
   "cell_type": "markdown",
   "metadata": {},
   "source": [
    "## Tratandos os dados dos desembolsos"
   ]
  },
  {
   "cell_type": "code",
   "execution_count": 2,
   "metadata": {},
   "outputs": [
    {
     "ename": "NameError",
     "evalue": "name 'pd' is not defined",
     "output_type": "error",
     "traceback": [
      "\u001b[1;31m---------------------------------------------------------------------------\u001b[0m",
      "\u001b[1;31mNameError\u001b[0m                                 Traceback (most recent call last)",
      "\u001b[1;32m<ipython-input-2-9d87af9427c6>\u001b[0m in \u001b[0;36m<module>\u001b[1;34m\u001b[0m\n\u001b[1;32m----> 1\u001b[1;33m \u001b[0mdf_desembolsos\u001b[0m\u001b[1;33m[\u001b[0m\u001b[1;34m'date'\u001b[0m\u001b[1;33m]\u001b[0m \u001b[1;33m=\u001b[0m \u001b[0mpd\u001b[0m\u001b[1;33m.\u001b[0m\u001b[0mto_datetime\u001b[0m\u001b[1;33m(\u001b[0m\u001b[0mdf_desembolsos\u001b[0m\u001b[1;33m[\u001b[0m\u001b[1;34m'ano'\u001b[0m\u001b[1;33m]\u001b[0m\u001b[1;33m.\u001b[0m\u001b[0mastype\u001b[0m\u001b[1;33m(\u001b[0m\u001b[0mstr\u001b[0m\u001b[1;33m)\u001b[0m \u001b[1;33m+\u001b[0m \u001b[1;34m'-'\u001b[0m \u001b[1;33m+\u001b[0m \u001b[0mdf_desembolsos\u001b[0m\u001b[1;33m[\u001b[0m\u001b[1;34m'mes'\u001b[0m\u001b[1;33m]\u001b[0m\u001b[1;33m.\u001b[0m\u001b[0mastype\u001b[0m\u001b[1;33m(\u001b[0m\u001b[0mstr\u001b[0m\u001b[1;33m)\u001b[0m \u001b[1;33m+\u001b[0m \u001b[1;34m'-'\u001b[0m \u001b[1;33m+\u001b[0m \u001b[1;34m\"01\"\u001b[0m\u001b[1;33m)\u001b[0m\u001b[1;33m\u001b[0m\u001b[1;33m\u001b[0m\u001b[0m\n\u001b[0m\u001b[0;32m      2\u001b[0m \u001b[0mdf_desembolsos\u001b[0m\u001b[1;33m.\u001b[0m\u001b[0mloc\u001b[0m\u001b[1;33m[\u001b[0m\u001b[1;33m:\u001b[0m\u001b[1;33m,\u001b[0m\u001b[1;33m[\u001b[0m\u001b[1;34m'regiao'\u001b[0m\u001b[1;33m,\u001b[0m \u001b[1;34m'uf'\u001b[0m\u001b[1;33m,\u001b[0m \u001b[1;34m'municipio'\u001b[0m\u001b[1;33m]\u001b[0m\u001b[1;33m]\u001b[0m \u001b[1;33m=\u001b[0m \u001b[0mdf_desembolsos\u001b[0m\u001b[1;33m.\u001b[0m\u001b[0mloc\u001b[0m\u001b[1;33m[\u001b[0m\u001b[1;33m:\u001b[0m\u001b[1;33m,\u001b[0m\u001b[1;33m[\u001b[0m\u001b[1;34m'regiao'\u001b[0m\u001b[1;33m,\u001b[0m \u001b[1;34m'uf'\u001b[0m\u001b[1;33m,\u001b[0m \u001b[1;34m'municipio'\u001b[0m\u001b[1;33m]\u001b[0m\u001b[1;33m]\u001b[0m\u001b[1;33m.\u001b[0m\u001b[0mreplace\u001b[0m\u001b[1;33m(\u001b[0m\u001b[1;34m'\\s*$'\u001b[0m\u001b[1;33m,\u001b[0m \u001b[1;34m''\u001b[0m\u001b[1;33m,\u001b[0m\u001b[0mregex\u001b[0m\u001b[1;33m=\u001b[0m\u001b[1;32mTrue\u001b[0m\u001b[1;33m)\u001b[0m\u001b[1;33m\u001b[0m\u001b[1;33m\u001b[0m\u001b[0m\n\u001b[0;32m      3\u001b[0m \u001b[0mdf_desembolsos\u001b[0m\u001b[1;33m.\u001b[0m\u001b[0msort_values\u001b[0m\u001b[1;33m(\u001b[0m\u001b[0mby\u001b[0m\u001b[1;33m=\u001b[0m\u001b[1;33m[\u001b[0m\u001b[1;34m'date'\u001b[0m\u001b[1;33m]\u001b[0m\u001b[1;33m,\u001b[0m \u001b[0minplace\u001b[0m\u001b[1;33m=\u001b[0m\u001b[1;32mTrue\u001b[0m\u001b[1;33m)\u001b[0m\u001b[1;33m\u001b[0m\u001b[1;33m\u001b[0m\u001b[0m\n\u001b[0;32m      4\u001b[0m \u001b[0mdf_desembolsos\u001b[0m\u001b[1;33m.\u001b[0m\u001b[0mhead\u001b[0m\u001b[1;33m(\u001b[0m\u001b[1;33m)\u001b[0m\u001b[1;33m\u001b[0m\u001b[1;33m\u001b[0m\u001b[0m\n",
      "\u001b[1;31mNameError\u001b[0m: name 'pd' is not defined"
     ]
    }
   ],
   "source": [
    "df_desembolsos['date'] = pd.to_datetime(df_desembolsos['ano'].astype(str) + '-' + df_desembolsos['mes'].astype(str) + '-' + \"01\")\n",
    "df_desembolsos.loc[:,['regiao', 'uf', 'municipio']] = df_desembolsos.loc[:,['regiao', 'uf', 'municipio']].replace('\\s*$', '',regex=True)\n",
    "df_desembolsos.sort_values(by=['date'], inplace=True)\n",
    "df_desembolsos.head()"
   ]
  },
  {
   "cell_type": "markdown",
   "metadata": {},
   "source": [
    "## Agrupando os dados do BNDES por setor e subsetor e plotando"
   ]
  },
  {
   "cell_type": "code",
   "execution_count": null,
   "metadata": {},
   "outputs": [],
   "source": [
    "desembolsosBySetor = pd.DataFrame(df_desembolsos.groupby(by=[\"ano\", \"setor_bndes\"]).sum().desembolsos_reais).unstack()\n",
    "desembolsosBySetor.columns = desembolsosBySetor.columns.levels[1]\n",
    "\n",
    "sns.lineplot(data=desembolsosBySetor)\n",
    "plt.savefig('../img/investimento_setor_bndes_bruto.svg')"
   ]
  },
  {
   "cell_type": "code",
   "execution_count": null,
   "metadata": {},
   "outputs": [],
   "source": [
    "desembolsosBySubsetor = pd.DataFrame(df_desembolsos.groupby(by=[\"ano\", \"subsetor_bndes\"]).sum().desembolsos_reais).unstack()\n",
    "desembolsosBySubsetor = desembolsosBySubsetor.droplevel(0, axis=1)\n",
    "\n",
    "\n",
    "fig = go.Figure([go.Scatter(x=desembolsosBySubsetor.index, y=desembolsosBySubsetor[i].values, name=i) for i in desembolsosBySubsetor.columns])\n",
    "fig.show()"
   ]
  },
  {
   "cell_type": "markdown",
   "metadata": {},
   "source": [
    "## Calculando a porcentagem de investimento em cada área e plotando"
   ]
  },
  {
   "cell_type": "code",
   "execution_count": null,
   "metadata": {},
   "outputs": [],
   "source": [
    "porcentoSetor = desembolsosBySetor.div(desembolsosBySetor.sum(axis=1), axis=0)\n",
    "porcentoSetor = porcentoSetor.apply(lambda x: x*100)\n",
    "\n",
    "sns.lineplot(data=porcentoSetor)\n",
    "plt.savefig('../img/investimento_setor_bndes_normalizado.svg')"
   ]
  },
  {
   "cell_type": "code",
   "execution_count": null,
   "metadata": {},
   "outputs": [],
   "source": [
    "subsetores = ['AGROPECUÁRIA', 'ALIMENTO E BEBIDA']\n",
    "\n",
    "porcentoSubsetor = desembolsosBySubsetor.div(desembolsosBySubsetor.sum(axis=1), axis=0)\n",
    "porcentoSubsetor = porcentoSubsetor.apply(lambda x: x*100)\n",
    "\n",
    "fig = go.Figure([go.Scatter(x=porcentoSubsetor.index, y=porcentoSubsetor[i].values, name=i) for i in subsetores])\n",
    "fig.show()"
   ]
  },
  {
   "cell_type": "markdown",
   "metadata": {},
   "source": [
    "Vamos checar agora quais anos sao cobertos pelos dados do BNDES para filtrarmos a base WDI com dados de nosso interesse."
   ]
  },
  {
   "cell_type": "code",
   "execution_count": null,
   "metadata": {},
   "outputs": [],
   "source": [
    "lista_anos_interesse = df_desembolsos['ano'].sort_values().unique().astype(str)\n",
    "\n",
    "print(lista_anos_interesse)"
   ]
  },
  {
   "cell_type": "markdown",
   "metadata": {},
   "source": [
    "Vemos que sao dados a partir de 1995 com termino em 2020. Com essas informacoes, vamos filtrar as colunas da base wdi. Vamos manter as colunas contendo o nome do pais, codigo do pais e nome do indicador (Country Name, Country Code, Indicator Name)"
   ]
  },
  {
   "cell_type": "code",
   "execution_count": null,
   "metadata": {},
   "outputs": [],
   "source": [
    "df_wdi[lista_anos_interesse]"
   ]
  },
  {
   "cell_type": "code",
   "execution_count": null,
   "metadata": {},
   "outputs": [],
   "source": [
    "cols_wdi_indicadores =[\"Chemicals (% of value added in manufacturing)\",\n",
    "                        \"Agriculture, forestry, and fishing, value added (% of GDP)\",                        \n",
    "                        \"Industry (including construction), value added (% of GDP)\",\n",
    "                        \"Services, value added (% of GDP)\",\n",
    "                        \"Manufacturing, value added (% of GDP)\",\n",
    "                        \"Food, beverages and tobacco (% of value added in manufacturing)\",\n",
    "                        \"Textiles and clothing (% of value added in manufacturing)\", \n",
    "                        \"Machinery and transport equipment (% of value added in manufacturing)\",\n",
    "                        \"Other manufacturing (% of value added in manufacturing)\",\n",
    "                        \"GDP per capita growth (annual %)\"]"
   ]
  },
  {
   "cell_type": "code",
   "execution_count": null,
   "metadata": {},
   "outputs": [],
   "source": [
    "for i in cols_wdi_indicadores:\n",
    "    print(i)"
   ]
  },
  {
   "cell_type": "code",
   "execution_count": null,
   "metadata": {},
   "outputs": [],
   "source": [
    "for i in df_desembolsos['subsetor_bndes'].unique():\n",
    "    print(i)"
   ]
  },
  {
   "cell_type": "code",
   "execution_count": null,
   "metadata": {},
   "outputs": [],
   "source": [
    "cols_desembolsos_indicadores = ['QUÍMICA E PETROQUÍMICA',\n",
    "                                'AGROPECUÁRIA',\n",
    "                                'CONSTRUÇÃO',\n",
    "                                'COMÉRCIO E SERVIÇOS',\n",
    "                                'OUTROS TRANSPORTES',\n",
    "                                'MATERIAL DE TRANSPORTE',\n",
    "                                'ALIMENTO E BEBIDA',\n",
    "                                'ENERGIA ELÉTRICA',\n",
    "                                'CELULOSE E PAPEL',\n",
    "                                'TELECOMUNICAÇÕES',\n",
    "                                'METALURGIA E PRODUTOS',\n",
    "                                'EXTRATIVA',\n",
    "                                'TRANSPORTE FERROVIÁRIO',\n",
    "                                'ATV. AUX. TRANSPORTES',\n",
    "                                'MECÂNICA',                                \n",
    "                                'SERV. UTILIDADE PÚBLICA',\n",
    "                                'TÊXTIL E VESTUÁRIO',\n",
    "                                'OUTRAS',\n",
    "                                'TRANSPORTE RODOVIÁRIO',\n",
    "                                'OUTROS']"
   ]
  },
  {
   "cell_type": "code",
   "execution_count": null,
   "metadata": {},
   "outputs": [],
   "source": [
    "df_desembolsos['subsetor_cnae_agrupado'].sort_values().unique()"
   ]
  },
  {
   "cell_type": "markdown",
   "metadata": {},
   "source": [
    "Selecionar melhor estrutura para o dicionario"
   ]
  },
  {
   "cell_type": "code",
   "execution_count": null,
   "metadata": {},
   "outputs": [],
   "source": [
    "relacao_01 = {\"quimica\" : [\"QUÍMICA E PETROQUÍMICA\", \"Chemicals (% of value added in manufacturing)\"], \n",
    "              \"agropecuaria\": [\"AGROPECUÁRIA\", \"Agriculture, forestry, and fishing, value added (% of GDP)\"], \n",
    "              \"industria\": [\"INDUSTRIA\", \"Industry (including construction), value added (% of GDP)\"],\n",
    "              \"servicos\":[\"COMÉRCIO E SERVIÇOS\", \"Services, value added (% of GDP)\"],\n",
    "              \"maquinario\":[[\"MATERIAL DE TRANSPORTE\", \"MECÂNICA\"], \"Machinery and transport equipment (% of value added in manufacturing)\"],\n",
    "              \"alimentacao_tabaco\": [\"ALIMENTO E BEBIDA\", \"Food, beverages and tobacco (% of value added in manufacturing)\"],\n",
    "              \"textil\": [\"TÊXTIL E VESTUÁRIO\", \"Textiles and clothing (% of value added in manufacturing)\"] }\n",
    "\n",
    "relacao_02 = {\"Chemicals (% of value added in manufacturing)\" : [\"QUÍMICA E PETROQUÍMICA\"], \n",
    "              \"Agriculture, forestry, and fishing, value added (% of GDP)\": [\"AGROPECUÁRIA\"], \n",
    "              \"Industry (including construction), value added (% of GDP)\": [\"CELULOSE E PAPEL\",\"METALURGIA E PRODUTOS\",\"EXTRATIVA\", \"CONSTRUÇÃO\"],\n",
    "              \"Services, value added (% of GDP)\":[[\"COMÉRCIO E SERVIÇOS\", \"ENERGIA ELÉTRICA\", \"TELECOMUNICAÇÕES\", \"TRANSPORTE FERROVIÁRIO\", \"ATV. AUX. TRANSPORTES\", \"SERV. UTILIDADE PÚBLICA\", \"TRANSPORTE RODOVIÁRIO\"]],\n",
    "              \"Machinery and transport equipment (% of value added in manufacturing)\":[\"MATERIAL DE TRANSPORTE\", \"MECÂNICA\"],\n",
    "              \"Food, beverages and tobacco (% of value added in manufacturing)\": [\"ALIMENTO E BEBIDA\"],\n",
    "              \"Textiles and clothing (% of value added in manufacturing)\": [\"TÊXTIL E VESTUÁRIO\"]}"
   ]
  },
  {
   "cell_type": "markdown",
   "metadata": {},
   "source": [
    "# Agrupando os dados de desembolso de acordo com os setores definidos no dicionário relacao_01"
   ]
  },
  {
   "cell_type": "markdown",
   "metadata": {},
   "source": [
    "## Tratando os dados da base WDI para usar-los na clusterização"
   ]
  },
  {
   "cell_type": "code",
   "execution_count": null,
   "metadata": {
    "scrolled": false
   },
   "outputs": [],
   "source": [
    "wdi_t = df_wdi.T\n",
    "idx = pd.IndexSlice\n",
    "\n",
    "wdi_t.columns = pd.MultiIndex.from_product([wdi_t.loc['Country Name'].unique(), wdi_t.loc['Indicator Name'].unique()])\n",
    "wdi_t.drop(labels=['Country Name','Indicator Name', 'Country Code'], axis=0, inplace=True)\n",
    "wdi_t.drop(index=['Indicator Code','Unnamed: 65'], inplace=True)\n",
    "wdi_t.index = list(wdi_t.index.str.extract(r'([0-9]{4})').values.astype(int).reshape((1,-1)))\n",
    "wdi_t.index = [i[0] for i in wdi_t.index.to_flat_index()]\n",
    "wdi_t.index = wdi_t.index.astype(int)\n",
    "wdi_t.replace(regex=r'^.*$', value=np.nan, inplace=True)\n",
    "wdi_t = wdi_t.apply(pd.to_numeric)\n",
    "wdi_t.head()"
   ]
  },
  {
   "cell_type": "code",
   "execution_count": null,
   "metadata": {
    "scrolled": false
   },
   "outputs": [],
   "source": [
    "countries = ['Brazil', 'United States', 'China', 'Germany', 'United Kingdom', 'Japan']\n",
    "\n",
    "sns.lineplot(data=wdi_t.loc[lista_anos_interesse.astype(int),idx[countries, ['GDP (current US$)']]])\n",
    "plt.savefig('../img/pib_paises.svg')"
   ]
  },
  {
   "cell_type": "code",
   "execution_count": null,
   "metadata": {},
   "outputs": [],
   "source": [
    "countries = ['Brazil']\n",
    "\n",
    "sns.heatmap(\n",
    "    wdi_t.loc[lista_anos_interesse.astype(int),idx[countries,[relacao_01['servicos'][1]] + [relacao_01['industria'][1]] + [relacao_01['agropecuaria'][1]] + ['GDP growth (annual %)']]].corr(),\n",
    "    annot=True,\n",
    "    linewidths=.5,\n",
    "    xticklabels=['% de investimento em Serviços', '% de investimento em Indústria', '% de investimento em Agropecuária', 'PIB'], \n",
    "    yticklabels=['% de investimento em Serviços', '% de investimento em Indústria', '% de investimento em Agropecuária', 'PIB']\n",
    ")\n",
    "plt.savefig('../img/corr.svg')"
   ]
  },
  {
   "cell_type": "code",
   "execution_count": null,
   "metadata": {},
   "outputs": [],
   "source": [
    "setor='industria'\n",
    "countries = ['Brazil', 'Spain', 'Mexico', 'Turkey', 'Germany','World']\n",
    "\n",
    "fig = go.Figure([go.Scatter(\n",
    "    x=wdi_t.loc[:,idx[:,relacao_01[setor][1]]].index, \n",
    "    y=wdi_t.loc[:,idx[:,relacao_01[setor][1]]][i].values.flatten(), name=i) \n",
    "    for i in countries])\n",
    "fig.show()"
   ]
  },
  {
   "cell_type": "markdown",
   "metadata": {},
   "source": [
    "## Construindo o dataframe concatenando os dados da wdi e do BNDES para aplicar a clusterização no setor Serviços"
   ]
  },
  {
   "cell_type": "code",
   "execution_count": null,
   "metadata": {},
   "outputs": [],
   "source": [
    "setor = \"servicos\"\n",
    "\n",
    "aux_wdi = wdi_t[4:].loc[:,pd.IndexSlice[:, relacao_01[setor][1]]]\n",
    "aux_wdi = aux_wdi.droplevel(1, axis=1)\n",
    "aux_wdi = aux_wdi.fillna(0)\n",
    "aux_wdi = aux_wdi.apply(lambda x: x.replace(0, x.iloc[np.array(x).nonzero()].mean()) if len(np.array(x).nonzero()[0]) > 0 else x\n",
    "                        , axis=0)\n",
    "aux_wdi = aux_wdi.loc[lista_anos_interesse.astype(int)]\n",
    "\n",
    "concat = pd.concat([aux_wdi, pd.DataFrame({'BNDES': porcentoSetor[relacao_01[setor][0]]})], axis=1)\n",
    "concat.head()"
   ]
  },
  {
   "cell_type": "code",
   "execution_count": null,
   "metadata": {},
   "outputs": [],
   "source": [
    "paises = ['Brazil', 'Patrimônio BNDES', 'PIB Brasileiro']\n",
    "\n",
    "concat_gdp = pd.concat([concat, pct_change, wdi_t.loc[lista_anos_interesse.astype(int),idx[['Brazil'], ['GDP growth (annual %)']]]], axis=1)\n",
    "col = list(concat_gdp.columns[:-1])\n",
    "col.append('PIB Brasileiro')\n",
    "concat_gdp.columns = col\n",
    "concat_gdp.rename(columns = {'patrimonio_liquido': 'Patrimônio BNDES'}, inplace = True)\n",
    "\n",
    "sns.lineplot(data=concat_gdp.loc[lista_anos_interesse.astype(int), paises])\n",
    "plt.savefig('../img/brasil_bndes_crescimentopib.svg')"
   ]
  },
  {
   "cell_type": "code",
   "execution_count": null,
   "metadata": {},
   "outputs": [],
   "source": [
    "corr_df = concat_gdp.loc[lista_anos_interesse.astype(int), paises]\n",
    "corr_df = pd.concat([corr_df, pd.DataFrame({'BNDES - Agropecuária': porcentoSetor['AGROPECUÁRIA']}), pd.DataFrame({'BNDES - Industria': porcentoSetor['INDUSTRIA']}), pd.DataFrame({'BNDES - Comércio e Serviços': porcentoSetor['COMÉRCIO E SERVIÇOS']}), pd.DataFrame({'BNDES - Infraestrutura': porcentoSetor['INFRAESTRUTURA']})], axis=1)\n",
    "corr_df = corr_df[['BNDES - Agropecuária', 'BNDES - Industria', 'BNDES - Comércio e Serviços', 'BNDES - Infraestrutura', 'Patrimônio BNDES', 'PIB Brasileiro']]\n",
    "\n",
    "sns.heatmap(corr_df.corr(),\n",
    "    annot=True,\n",
    "    linewidths=.5)\n",
    "\n",
    "plt.savefig('../img/corr.svg')"
   ]
  },
  {
   "cell_type": "code",
   "execution_count": null,
   "metadata": {},
   "outputs": [],
   "source": [
    "paises_interesse = ['Brazil', 'United States', 'China', 'Germany', 'United Kingdom', 'Japan', 'Italy', 'France', 'Canada', 'Australia', 'BNDES', 'Argentina', 'Uruguay']"
   ]
  },
  {
   "cell_type": "code",
   "execution_count": null,
   "metadata": {},
   "outputs": [],
   "source": [
    "concat = concat[paises_interesse]"
   ]
  },
  {
   "cell_type": "markdown",
   "metadata": {},
   "source": [
    "## Construindo o dataframe concatenando os dados da wdi e do BNDES para aplicar a clusterização no setor Indústria"
   ]
  },
  {
   "cell_type": "code",
   "execution_count": null,
   "metadata": {},
   "outputs": [],
   "source": [
    "setor = \"servicos\"\n",
    "\n",
    "aux_wdi = wdi_t[4:].loc[:,pd.IndexSlice[:, relacao_01[setor][1]]]\n",
    "aux_wdi = aux_wdi.droplevel(1, axis=1)\n",
    "aux_wdi = aux_wdi.fillna(0)\n",
    "aux_wdi = aux_wdi.apply(lambda x: x.replace(0, x.iloc[np.array(x).nonzero()].mean()) if len(np.array(x).nonzero()[0]) > 0 else x\n",
    "                        , axis=0)\n",
    "aux_wdi = aux_wdi.loc[lista_anos_interesse.astype(int)]\n",
    "\n",
    "concat = pd.concat([aux_wdi, pd.DataFrame({'BNDES': porcentoSetor[relacao_01[setor][0]]})], axis=1)\n",
    "concat.head()"
   ]
  },
  {
   "cell_type": "code",
   "execution_count": null,
   "metadata": {},
   "outputs": [],
   "source": [
    "paises = ['Brazil', 'Patrimônio BNDES', 'PIB Brasileiro']\n",
    "\n",
    "concat_gdp = pd.concat([concat, pct_change, wdi_t.loc[lista_anos_interesse.astype(int),idx[['Brazil'], ['GDP growth (annual %)']]]], axis=1)\n",
    "col = list(concat_gdp.columns[:-1])\n",
    "col.append('PIB Brasileiro')\n",
    "concat_gdp.columns = col\n",
    "concat_gdp.rename(columns = {'patrimonio_liquido': 'Patrimônio BNDES'}, inplace = True)\n",
    "\n",
    "sns.lineplot(data=concat_gdp.loc[lista_anos_interesse.astype(int), paises])\n",
    "plt.savefig('../img/brasil_bndes_crescimentopib.svg')"
   ]
  },
  {
   "cell_type": "code",
   "execution_count": null,
   "metadata": {},
   "outputs": [],
   "source": [
    "corr_df = concat_gdp.loc[lista_anos_interesse.astype(int), paises]\n",
    "corr_df = pd.concat([corr_df, pd.DataFrame({'BNDES - Agropecuária': porcentoSetor['AGROPECUÁRIA']}), pd.DataFrame({'BNDES - Industria': porcentoSetor['INDUSTRIA']}), pd.DataFrame({'BNDES - Comércio e Serviços': porcentoSetor['COMÉRCIO E SERVIÇOS']}), pd.DataFrame({'BNDES - Infraestrutura': porcentoSetor['INFRAESTRUTURA']})], axis=1)\n",
    "corr_df = corr_df[['BNDES - Agropecuária', 'BNDES - Industria', 'BNDES - Comércio e Serviços', 'BNDES - Infraestrutura', 'Patrimônio BNDES', 'PIB Brasileiro']]\n",
    "sns.heatmap(corr_df.corr(),\n",
    "    annot=True,\n",
    "    linewidths=.5)\n",
    "\n",
    "plt.savefig('../img/corr.svg')"
   ]
  },
  {
   "cell_type": "code",
   "execution_count": null,
   "metadata": {},
   "outputs": [],
   "source": [
    "paises_interesse = ['Brazil', 'United States', 'China', 'Germany', 'United Kingdom', 'Japan', 'Italy', 'France', 'Canada', 'Australia', 'BNDES', 'Argentina', 'Uruguay']\n"
   ]
  },
  {
   "cell_type": "code",
   "execution_count": null,
   "metadata": {},
   "outputs": [],
   "source": [
    "concat = concat[paises_interesse]"
   ]
  },
  {
   "cell_type": "markdown",
   "metadata": {},
   "source": [
    "<h1 id=\"clusterização-tratando-o-bndes-como-um-país\">Clusterização tratando o <em>BNDES</em> como um país</h1>\n",
    "<p>Com a base agregada de um formato adequado, foi possível analisar em quais grupos de similaridade o <em>BNDES</em> participou no que diz respeito aos seus investimentos e em relação aos outros países.</p>"
   ]
  },
  {
   "cell_type": "markdown",
   "metadata": {},
   "source": [
    "# Clusterizando"
   ]
  },
  {
   "cell_type": "code",
   "execution_count": null,
   "metadata": {
    "scrolled": true
   },
   "outputs": [],
   "source": [
    "#ANALISE DO NUMERO DE CLUSTER\n",
    "def cidade_grupo(nclusters, pais='BNDES'):\n",
    "    pais_index = list(concat.columns).index(pais) \n",
    "    lista_paises = list()\n",
    "    \n",
    "    for _ in range(20):\n",
    "        clustering = KMeans(n_clusters=nclusters,algorithm='full').fit(concat.values.T)\n",
    "        lista_paises += (list(concat.columns[np.where(clustering.labels_ == clustering.labels_[pais_index])[0]]))\n",
    "        \n",
    "    return set(lista_paises)\n",
    "\n",
    "paises_similares_dict = {} \n",
    "ncls = []\n",
    "n_clusters = np.array(range(2,6))\n",
    "for k in n_clusters:\n",
    "    listpaises = cidade_grupo(k)\n",
    "    paises_similares_dict[str(k)] = list(listpaises)\n",
    "    ncls.append(len(listpaises))\n",
    "    \n",
    "plt.bar(range(len(ncls)),ncls)\n",
    "plt.xticks(range(len(n_clusters)), range(n_clusters.min(),n_clusters.max() + 1))\n",
    "plt.title('Tot. de países no cluster do BNDES x num. de clusters')\n",
    "plt.xlabel('Numero de clusters')\n",
    "plt.ylabel('Total de paises no cluster do BNDES')\n",
    "plt.savefig('../img/n_clusters_'+setor+'.svg')\n",
    "plt.show()"
   ]
  },
  {
   "cell_type": "code",
   "execution_count": null,
   "metadata": {},
   "outputs": [],
   "source": [
    "countries = np.array(paises_similares_dict['2'])\n",
    "\n",
    "fig = go.Figure([go.Scatter(\n",
    "    x=concat.index, \n",
    "    y=concat[i], name=i) \n",
    "    for i in countries])\n",
    "fig.show()"
   ]
  },
  {
   "cell_type": "code",
   "execution_count": null,
   "metadata": {},
   "outputs": [],
   "source": [
    "sns.lineplot(data = concat[countries])\n",
    "plt.savefig('../img/paises_no_cluster_'+setor+'.svg')"
   ]
  },
  {
   "cell_type": "markdown",
   "metadata": {},
   "source": [
    "# Construindo o dataframe do crescimento percentual por anos nos investimentos por setor do BNDES"
   ]
  },
  {
   "cell_type": "code",
   "execution_count": null,
   "metadata": {},
   "outputs": [],
   "source": [
    "pct_change_setor = pd.DataFrame(df_desembolsos.groupby(by=[\"ano\", \"setor_bndes\"]).sum().desembolsos_reais).unstack()\n",
    "pct_change_setor.columns = pct_change_setor.columns.levels[1]\n",
    "pct_change_setor = pct_change_setor.pct_change()\n",
    "pct_change_setor.head()"
   ]
  },
  {
   "cell_type": "code",
   "execution_count": null,
   "metadata": {
    "scrolled": true
   },
   "outputs": [],
   "source": [
    "wdi_annual_growth = df_wdi[df_wdi['Indicator Name'].str.match(r'^.*annual % growth.*$')].T\n",
    "idx = pd.IndexSlice\n",
    "\n",
    "wdi_annual_growth.columns = pd.MultiIndex.from_product([wdi_annual_growth.loc['Country Name'].unique(), wdi_annual_growth.loc['Indicator Name'].unique()])\n",
    "wdi_annual_growth.drop(labels=['Country Name','Indicator Name', 'Country Code'], axis=0, inplace=True)\n",
    "wdi_annual_growth.drop(index=['Indicator Code','Unnamed: 65'], inplace=True)\n",
    "wdi_annual_growth.index = list(wdi_annual_growth.index.str.extract(r'([0-9]{4})').values.astype(int).reshape((1,-1)))\n",
    "wdi_annual_growth.replace(regex=r'^.*$', value=np.nan, inplace=True)\n",
    "wdi_annual_growth = wdi_annual_growth.apply(pd.to_numeric)\n",
    "wdi_annual_growth.head()"
   ]
  },
  {
   "cell_type": "code",
   "execution_count": null,
   "metadata": {},
   "outputs": [],
   "source": [
    "relacao_pct_change = { \"agropecuaria\": [\"AGROPECUÁRIA\", \"Agriculture, forestry, and fishing, value added (annual % growth)\"], \n",
    "              \"industria\": [ \"INDUSTRIA\", \"Industry (including construction), value added (annual % growth)\"],\n",
    "              \"servicos\": [\"COMÉRCIO E SERVIÇOS\", \"Services, value added (annual % growth)\"] }"
   ]
  },
  {
   "cell_type": "code",
   "execution_count": null,
   "metadata": {
    "scrolled": true
   },
   "outputs": [],
   "source": [
    "setor = \"servicos\"\n",
    "\n",
    "aux_wdi_pct_change = wdi_annual_growth[4:].loc[:,pd.IndexSlice[:, relacao_pct_change[setor][1]]]\n",
    "aux_wdi_pct_change = aux_wdi_pct_change.droplevel(1, axis=1)\n",
    "aux_wdi_pct_change = aux_wdi_pct_change.fillna(0)\n",
    "aux_wdi_pct_change = aux_wdi_pct_change.apply(lambda x: x.replace(0, x.iloc[np.array(x).nonzero()].mean()) if len(np.array(x).nonzero()[0]) > 0 else x\n",
    "                        , axis=0)\n",
    "aux_wdi_pct_change.index = [i[0] for i in aux_wdi_pct_change.index.to_flat_index()]\n",
    "aux_wdi_pct_change.index = aux_wdi_pct_change.index.astype(int)\n",
    "aux_wdi_pct_change = aux_wdi_pct_change.loc[lista_anos_interesse[1:].astype(int)]\n",
    "\n",
    "concat_pct_change = pd.concat([aux_wdi_pct_change, pd.DataFrame({'BNDES': pct_change_setor.loc[1996:, relacao_pct_change[setor][0]]})], axis=1)\n",
    "concat_pct_change.head()"
   ]
  },
  {
   "cell_type": "markdown",
   "metadata": {},
   "source": [
    "# Clusterizando para mudança percentual"
   ]
  },
  {
   "cell_type": "code",
   "execution_count": null,
   "metadata": {
    "scrolled": true
   },
   "outputs": [],
   "source": [
    "#ANALISE DO NUMERO DE CLUSTER\n",
    "def cidade_grupo(nclusters, pais='BNDES'):\n",
    "    pais_index = list(concat_pct_change.columns).index(pais) \n",
    "    \n",
    "    clustering = KMeans(n_clusters=nclusters,algorithm='full').fit(concat_pct_change.values.T)\n",
    "    lista_paises = concat_pct_change.columns[np.where(clustering.labels_ == clustering.labels_[pais_index])[0]]\n",
    "    return set(lista_paises)\n",
    "\n",
    "paises_similares_dict = {} \n",
    "ncls = []\n",
    "n_clusters = np.array(range(40,50))\n",
    "for k in n_clusters:\n",
    "    listpaises = cidade_grupo(k)\n",
    "    paises_similares_dict[str(k)] = list(listpaises)\n",
    "    ncls.append(len(listpaises))\n",
    "    \n",
    "plt.bar(range(len(ncls)),ncls)\n",
    "plt.xticks(range(len(n_clusters)), range(n_clusters.min(),n_clusters.max() + 1))\n",
    "plt.title('Tot. de países no cluster do BNDES x num. de clusters')\n",
    "plt.xlabel('Numero de clusters')\n",
    "plt.ylabel('Total de paises no cluster do BNDES')\n",
    "plt.show()"
   ]
  },
  {
   "cell_type": "code",
   "execution_count": null,
   "metadata": {},
   "outputs": [],
   "source": [
    "countries = np.array(paises_similares_dict['40'])\n",
    "\n",
    "fig = go.Figure([go.Scatter(\n",
    "    x=concat_pct_change.index, \n",
    "    y=concat_pct_change[i], name=i) \n",
    "    for i in countries])\n",
    "fig.show()"
   ]
  },
  {
   "cell_type": "code",
   "execution_count": null,
   "metadata": {},
   "outputs": [],
   "source": []
  }
 ],
 "metadata": {
  "interpreter": {
   "hash": "524f6e4378c1991495e1ca399e46649b8c666811c7bdb802646faf1c5df87e61"
  },
  "kernelspec": {
   "display_name": "Python 3",
   "language": "python",
   "name": "python3"
  },
  "language_info": {
   "codemirror_mode": {
    "name": "ipython",
    "version": 3
   },
   "file_extension": ".py",
   "mimetype": "text/x-python",
   "name": "python",
   "nbconvert_exporter": "python",
   "pygments_lexer": "ipython3",
   "version": "3.9.0"
  }
 },
 "nbformat": 4,
 "nbformat_minor": 2
}
